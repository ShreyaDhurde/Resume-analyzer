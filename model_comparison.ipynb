{
  "nbformat": 4,
  "nbformat_minor": 0,
  "metadata": {
    "colab": {
      "provenance": []
    },
    "kernelspec": {
      "name": "python3",
      "display_name": "Python 3"
    },
    "language_info": {
      "name": "python"
    }
  },
  "cells": [
    {
      "cell_type": "code",
      "execution_count": 2,
      "metadata": {
        "id": "5lZTuB5xATuU"
      },
      "outputs": [],
      "source": [
        "import warnings\n",
        "warnings.filterwarnings('ignore')\n",
        "import numpy as np\n",
        "import pandas as pd\n",
        "import matplotlib.pyplot as plt\n",
        "import seaborn as sns\n",
        "from matplotlib.gridspec import GridSpec\n",
        "import re\n",
        "from sklearn.preprocessing import LabelEncoder\n",
        "from sklearn.model_selection import train_test_split\n",
        "from sklearn.feature_extraction.text import TfidfVectorizer\n",
        "from sklearn import metrics\n",
        "import os"
      ]
    },
    {
      "cell_type": "code",
      "source": [
        "resumeDataSet = pd.read_csv('/content/UpdatedResumeDataSet.csv')"
      ],
      "metadata": {
        "id": "cAp0DCzJAslE"
      },
      "execution_count": 4,
      "outputs": []
    },
    {
      "cell_type": "code",
      "source": [
        "resumeDataSet"
      ],
      "metadata": {
        "colab": {
          "base_uri": "https://localhost:8080/",
          "height": 423
        },
        "id": "0F3CKF48Ax3N",
        "outputId": "baa9d535-b72a-4ab3-c50c-ebede98479c0"
      },
      "execution_count": 5,
      "outputs": [
        {
          "output_type": "execute_result",
          "data": {
            "text/plain": [
              "         Category                                             Resume\n",
              "0    Data Science  Skills * Programming Languages: Python (pandas...\n",
              "1    Data Science  Education Details \\r\\nMay 2013 to May 2017 B.E...\n",
              "2    Data Science  Areas of Interest Deep Learning, Control Syste...\n",
              "3    Data Science  Skills â¢ R â¢ Python â¢ SAP HANA â¢ Table...\n",
              "4    Data Science  Education Details \\r\\n MCA   YMCAUST,  Faridab...\n",
              "..            ...                                                ...\n",
              "957       Testing  Computer Skills: â¢ Proficient in MS office (...\n",
              "958       Testing  â Willingness to accept the challenges. â ...\n",
              "959       Testing  PERSONAL SKILLS â¢ Quick learner, â¢ Eagerne...\n",
              "960       Testing  COMPUTER SKILLS & SOFTWARE KNOWLEDGE MS-Power ...\n",
              "961       Testing  Skill Set OS Windows XP/7/8/8.1/10 Database MY...\n",
              "\n",
              "[962 rows x 2 columns]"
            ],
            "text/html": [
              "\n",
              "  <div id=\"df-49385c63-8026-45da-a762-46c9213fce32\">\n",
              "    <div class=\"colab-df-container\">\n",
              "      <div>\n",
              "<style scoped>\n",
              "    .dataframe tbody tr th:only-of-type {\n",
              "        vertical-align: middle;\n",
              "    }\n",
              "\n",
              "    .dataframe tbody tr th {\n",
              "        vertical-align: top;\n",
              "    }\n",
              "\n",
              "    .dataframe thead th {\n",
              "        text-align: right;\n",
              "    }\n",
              "</style>\n",
              "<table border=\"1\" class=\"dataframe\">\n",
              "  <thead>\n",
              "    <tr style=\"text-align: right;\">\n",
              "      <th></th>\n",
              "      <th>Category</th>\n",
              "      <th>Resume</th>\n",
              "    </tr>\n",
              "  </thead>\n",
              "  <tbody>\n",
              "    <tr>\n",
              "      <th>0</th>\n",
              "      <td>Data Science</td>\n",
              "      <td>Skills * Programming Languages: Python (pandas...</td>\n",
              "    </tr>\n",
              "    <tr>\n",
              "      <th>1</th>\n",
              "      <td>Data Science</td>\n",
              "      <td>Education Details \\r\\nMay 2013 to May 2017 B.E...</td>\n",
              "    </tr>\n",
              "    <tr>\n",
              "      <th>2</th>\n",
              "      <td>Data Science</td>\n",
              "      <td>Areas of Interest Deep Learning, Control Syste...</td>\n",
              "    </tr>\n",
              "    <tr>\n",
              "      <th>3</th>\n",
              "      <td>Data Science</td>\n",
              "      <td>Skills â¢ R â¢ Python â¢ SAP HANA â¢ Table...</td>\n",
              "    </tr>\n",
              "    <tr>\n",
              "      <th>4</th>\n",
              "      <td>Data Science</td>\n",
              "      <td>Education Details \\r\\n MCA   YMCAUST,  Faridab...</td>\n",
              "    </tr>\n",
              "    <tr>\n",
              "      <th>...</th>\n",
              "      <td>...</td>\n",
              "      <td>...</td>\n",
              "    </tr>\n",
              "    <tr>\n",
              "      <th>957</th>\n",
              "      <td>Testing</td>\n",
              "      <td>Computer Skills: â¢ Proficient in MS office (...</td>\n",
              "    </tr>\n",
              "    <tr>\n",
              "      <th>958</th>\n",
              "      <td>Testing</td>\n",
              "      <td>â Willingness to accept the challenges. â ...</td>\n",
              "    </tr>\n",
              "    <tr>\n",
              "      <th>959</th>\n",
              "      <td>Testing</td>\n",
              "      <td>PERSONAL SKILLS â¢ Quick learner, â¢ Eagerne...</td>\n",
              "    </tr>\n",
              "    <tr>\n",
              "      <th>960</th>\n",
              "      <td>Testing</td>\n",
              "      <td>COMPUTER SKILLS &amp; SOFTWARE KNOWLEDGE MS-Power ...</td>\n",
              "    </tr>\n",
              "    <tr>\n",
              "      <th>961</th>\n",
              "      <td>Testing</td>\n",
              "      <td>Skill Set OS Windows XP/7/8/8.1/10 Database MY...</td>\n",
              "    </tr>\n",
              "  </tbody>\n",
              "</table>\n",
              "<p>962 rows × 2 columns</p>\n",
              "</div>\n",
              "      <button class=\"colab-df-convert\" onclick=\"convertToInteractive('df-49385c63-8026-45da-a762-46c9213fce32')\"\n",
              "              title=\"Convert this dataframe to an interactive table.\"\n",
              "              style=\"display:none;\">\n",
              "        \n",
              "  <svg xmlns=\"http://www.w3.org/2000/svg\" height=\"24px\"viewBox=\"0 0 24 24\"\n",
              "       width=\"24px\">\n",
              "    <path d=\"M0 0h24v24H0V0z\" fill=\"none\"/>\n",
              "    <path d=\"M18.56 5.44l.94 2.06.94-2.06 2.06-.94-2.06-.94-.94-2.06-.94 2.06-2.06.94zm-11 1L8.5 8.5l.94-2.06 2.06-.94-2.06-.94L8.5 2.5l-.94 2.06-2.06.94zm10 10l.94 2.06.94-2.06 2.06-.94-2.06-.94-.94-2.06-.94 2.06-2.06.94z\"/><path d=\"M17.41 7.96l-1.37-1.37c-.4-.4-.92-.59-1.43-.59-.52 0-1.04.2-1.43.59L10.3 9.45l-7.72 7.72c-.78.78-.78 2.05 0 2.83L4 21.41c.39.39.9.59 1.41.59.51 0 1.02-.2 1.41-.59l7.78-7.78 2.81-2.81c.8-.78.8-2.07 0-2.86zM5.41 20L4 18.59l7.72-7.72 1.47 1.35L5.41 20z\"/>\n",
              "  </svg>\n",
              "      </button>\n",
              "      \n",
              "  <style>\n",
              "    .colab-df-container {\n",
              "      display:flex;\n",
              "      flex-wrap:wrap;\n",
              "      gap: 12px;\n",
              "    }\n",
              "\n",
              "    .colab-df-convert {\n",
              "      background-color: #E8F0FE;\n",
              "      border: none;\n",
              "      border-radius: 50%;\n",
              "      cursor: pointer;\n",
              "      display: none;\n",
              "      fill: #1967D2;\n",
              "      height: 32px;\n",
              "      padding: 0 0 0 0;\n",
              "      width: 32px;\n",
              "    }\n",
              "\n",
              "    .colab-df-convert:hover {\n",
              "      background-color: #E2EBFA;\n",
              "      box-shadow: 0px 1px 2px rgba(60, 64, 67, 0.3), 0px 1px 3px 1px rgba(60, 64, 67, 0.15);\n",
              "      fill: #174EA6;\n",
              "    }\n",
              "\n",
              "    [theme=dark] .colab-df-convert {\n",
              "      background-color: #3B4455;\n",
              "      fill: #D2E3FC;\n",
              "    }\n",
              "\n",
              "    [theme=dark] .colab-df-convert:hover {\n",
              "      background-color: #434B5C;\n",
              "      box-shadow: 0px 1px 3px 1px rgba(0, 0, 0, 0.15);\n",
              "      filter: drop-shadow(0px 1px 2px rgba(0, 0, 0, 0.3));\n",
              "      fill: #FFFFFF;\n",
              "    }\n",
              "  </style>\n",
              "\n",
              "      <script>\n",
              "        const buttonEl =\n",
              "          document.querySelector('#df-49385c63-8026-45da-a762-46c9213fce32 button.colab-df-convert');\n",
              "        buttonEl.style.display =\n",
              "          google.colab.kernel.accessAllowed ? 'block' : 'none';\n",
              "\n",
              "        async function convertToInteractive(key) {\n",
              "          const element = document.querySelector('#df-49385c63-8026-45da-a762-46c9213fce32');\n",
              "          const dataTable =\n",
              "            await google.colab.kernel.invokeFunction('convertToInteractive',\n",
              "                                                     [key], {});\n",
              "          if (!dataTable) return;\n",
              "\n",
              "          const docLinkHtml = 'Like what you see? Visit the ' +\n",
              "            '<a target=\"_blank\" href=https://colab.research.google.com/notebooks/data_table.ipynb>data table notebook</a>'\n",
              "            + ' to learn more about interactive tables.';\n",
              "          element.innerHTML = '';\n",
              "          dataTable['output_type'] = 'display_data';\n",
              "          await google.colab.output.renderOutput(dataTable, element);\n",
              "          const docLink = document.createElement('div');\n",
              "          docLink.innerHTML = docLinkHtml;\n",
              "          element.appendChild(docLink);\n",
              "        }\n",
              "      </script>\n",
              "    </div>\n",
              "  </div>\n",
              "  "
            ]
          },
          "metadata": {},
          "execution_count": 5
        }
      ]
    },
    {
      "cell_type": "code",
      "source": [
        "series = resumeDataSet['Category'].value_counts()\n",
        "resumeDataSet_result = pd.DataFrame(series)\n",
        "resumeDataSet_result = resumeDataSet_result.reset_index()  \n",
        "resumeDataSet_result.columns = ['Category', 'Total']\n",
        "print(resumeDataSet_result)"
      ],
      "metadata": {
        "colab": {
          "base_uri": "https://localhost:8080/"
        },
        "id": "EgmcFRfOBPUb",
        "outputId": "8dbdf58a-cbc4-4475-895d-3129254b8b7e"
      },
      "execution_count": 6,
      "outputs": [
        {
          "output_type": "stream",
          "name": "stdout",
          "text": [
            "                     Category  Total\n",
            "0              Java Developer     84\n",
            "1                     Testing     70\n",
            "2             DevOps Engineer     55\n",
            "3            Python Developer     48\n",
            "4               Web Designing     45\n",
            "5                          HR     44\n",
            "6                      Hadoop     42\n",
            "7                  Blockchain     40\n",
            "8               ETL Developer     40\n",
            "9          Operations Manager     40\n",
            "10               Data Science     40\n",
            "11                      Sales     40\n",
            "12        Mechanical Engineer     40\n",
            "13                       Arts     36\n",
            "14                   Database     33\n",
            "15     Electrical Engineering     30\n",
            "16         Health and fitness     30\n",
            "17                        PMO     30\n",
            "18           Business Analyst     28\n",
            "19           DotNet Developer     28\n",
            "20         Automation Testing     26\n",
            "21  Network Security Engineer     25\n",
            "22              SAP Developer     24\n",
            "23             Civil Engineer     24\n",
            "24                   Advocate     20\n"
          ]
        }
      ]
    },
    {
      "cell_type": "code",
      "source": [
        "import plotly.express as px\n",
        "rd_result_part = resumeDataSet_result.head(21)\n",
        "fig = px.pie(rd_result_part,\n",
        "                 values='Total',\n",
        "                 names='Category')\n",
        "\n",
        "fig.show()"
      ],
      "metadata": {
        "colab": {
          "base_uri": "https://localhost:8080/",
          "height": 542
        },
        "id": "QqGGj1IeB0Rl",
        "outputId": "4d4c2d81-3db9-4c9b-b5ff-cdaf2fc3e082"
      },
      "execution_count": 7,
      "outputs": [
        {
          "output_type": "display_data",
          "data": {
            "text/html": [
              "<html>\n",
              "<head><meta charset=\"utf-8\" /></head>\n",
              "<body>\n",
              "    <div>            <script src=\"https://cdnjs.cloudflare.com/ajax/libs/mathjax/2.7.5/MathJax.js?config=TeX-AMS-MML_SVG\"></script><script type=\"text/javascript\">if (window.MathJax && window.MathJax.Hub && window.MathJax.Hub.Config) {window.MathJax.Hub.Config({SVG: {font: \"STIX-Web\"}});}</script>                <script type=\"text/javascript\">window.PlotlyConfig = {MathJaxConfig: 'local'};</script>\n",
              "        <script src=\"https://cdn.plot.ly/plotly-2.18.2.min.js\"></script>                <div id=\"5542bff2-d412-46c9-97ac-7f48ef1c0f1c\" class=\"plotly-graph-div\" style=\"height:525px; width:100%;\"></div>            <script type=\"text/javascript\">                                    window.PLOTLYENV=window.PLOTLYENV || {};                                    if (document.getElementById(\"5542bff2-d412-46c9-97ac-7f48ef1c0f1c\")) {                    Plotly.newPlot(                        \"5542bff2-d412-46c9-97ac-7f48ef1c0f1c\",                        [{\"domain\":{\"x\":[0.0,1.0],\"y\":[0.0,1.0]},\"hovertemplate\":\"Category=%{label}<br>Total=%{value}<extra></extra>\",\"labels\":[\"Java Developer\",\"Testing\",\"DevOps Engineer\",\"Python Developer\",\"Web Designing\",\"HR\",\"Hadoop\",\"Blockchain\",\"ETL Developer\",\"Operations Manager\",\"Data Science\",\"Sales\",\"Mechanical Engineer\",\"Arts\",\"Database\",\"Electrical Engineering\",\"Health and fitness\",\"PMO\",\"Business Analyst\",\"DotNet Developer\",\"Automation Testing\"],\"legendgroup\":\"\",\"name\":\"\",\"showlegend\":true,\"values\":[84,70,55,48,45,44,42,40,40,40,40,40,40,36,33,30,30,30,28,28,26],\"type\":\"pie\"}],                        {\"template\":{\"data\":{\"histogram2dcontour\":[{\"type\":\"histogram2dcontour\",\"colorbar\":{\"outlinewidth\":0,\"ticks\":\"\"},\"colorscale\":[[0.0,\"#0d0887\"],[0.1111111111111111,\"#46039f\"],[0.2222222222222222,\"#7201a8\"],[0.3333333333333333,\"#9c179e\"],[0.4444444444444444,\"#bd3786\"],[0.5555555555555556,\"#d8576b\"],[0.6666666666666666,\"#ed7953\"],[0.7777777777777778,\"#fb9f3a\"],[0.8888888888888888,\"#fdca26\"],[1.0,\"#f0f921\"]]}],\"choropleth\":[{\"type\":\"choropleth\",\"colorbar\":{\"outlinewidth\":0,\"ticks\":\"\"}}],\"histogram2d\":[{\"type\":\"histogram2d\",\"colorbar\":{\"outlinewidth\":0,\"ticks\":\"\"},\"colorscale\":[[0.0,\"#0d0887\"],[0.1111111111111111,\"#46039f\"],[0.2222222222222222,\"#7201a8\"],[0.3333333333333333,\"#9c179e\"],[0.4444444444444444,\"#bd3786\"],[0.5555555555555556,\"#d8576b\"],[0.6666666666666666,\"#ed7953\"],[0.7777777777777778,\"#fb9f3a\"],[0.8888888888888888,\"#fdca26\"],[1.0,\"#f0f921\"]]}],\"heatmap\":[{\"type\":\"heatmap\",\"colorbar\":{\"outlinewidth\":0,\"ticks\":\"\"},\"colorscale\":[[0.0,\"#0d0887\"],[0.1111111111111111,\"#46039f\"],[0.2222222222222222,\"#7201a8\"],[0.3333333333333333,\"#9c179e\"],[0.4444444444444444,\"#bd3786\"],[0.5555555555555556,\"#d8576b\"],[0.6666666666666666,\"#ed7953\"],[0.7777777777777778,\"#fb9f3a\"],[0.8888888888888888,\"#fdca26\"],[1.0,\"#f0f921\"]]}],\"heatmapgl\":[{\"type\":\"heatmapgl\",\"colorbar\":{\"outlinewidth\":0,\"ticks\":\"\"},\"colorscale\":[[0.0,\"#0d0887\"],[0.1111111111111111,\"#46039f\"],[0.2222222222222222,\"#7201a8\"],[0.3333333333333333,\"#9c179e\"],[0.4444444444444444,\"#bd3786\"],[0.5555555555555556,\"#d8576b\"],[0.6666666666666666,\"#ed7953\"],[0.7777777777777778,\"#fb9f3a\"],[0.8888888888888888,\"#fdca26\"],[1.0,\"#f0f921\"]]}],\"contourcarpet\":[{\"type\":\"contourcarpet\",\"colorbar\":{\"outlinewidth\":0,\"ticks\":\"\"}}],\"contour\":[{\"type\":\"contour\",\"colorbar\":{\"outlinewidth\":0,\"ticks\":\"\"},\"colorscale\":[[0.0,\"#0d0887\"],[0.1111111111111111,\"#46039f\"],[0.2222222222222222,\"#7201a8\"],[0.3333333333333333,\"#9c179e\"],[0.4444444444444444,\"#bd3786\"],[0.5555555555555556,\"#d8576b\"],[0.6666666666666666,\"#ed7953\"],[0.7777777777777778,\"#fb9f3a\"],[0.8888888888888888,\"#fdca26\"],[1.0,\"#f0f921\"]]}],\"surface\":[{\"type\":\"surface\",\"colorbar\":{\"outlinewidth\":0,\"ticks\":\"\"},\"colorscale\":[[0.0,\"#0d0887\"],[0.1111111111111111,\"#46039f\"],[0.2222222222222222,\"#7201a8\"],[0.3333333333333333,\"#9c179e\"],[0.4444444444444444,\"#bd3786\"],[0.5555555555555556,\"#d8576b\"],[0.6666666666666666,\"#ed7953\"],[0.7777777777777778,\"#fb9f3a\"],[0.8888888888888888,\"#fdca26\"],[1.0,\"#f0f921\"]]}],\"mesh3d\":[{\"type\":\"mesh3d\",\"colorbar\":{\"outlinewidth\":0,\"ticks\":\"\"}}],\"scatter\":[{\"fillpattern\":{\"fillmode\":\"overlay\",\"size\":10,\"solidity\":0.2},\"type\":\"scatter\"}],\"parcoords\":[{\"type\":\"parcoords\",\"line\":{\"colorbar\":{\"outlinewidth\":0,\"ticks\":\"\"}}}],\"scatterpolargl\":[{\"type\":\"scatterpolargl\",\"marker\":{\"colorbar\":{\"outlinewidth\":0,\"ticks\":\"\"}}}],\"bar\":[{\"error_x\":{\"color\":\"#2a3f5f\"},\"error_y\":{\"color\":\"#2a3f5f\"},\"marker\":{\"line\":{\"color\":\"#E5ECF6\",\"width\":0.5},\"pattern\":{\"fillmode\":\"overlay\",\"size\":10,\"solidity\":0.2}},\"type\":\"bar\"}],\"scattergeo\":[{\"type\":\"scattergeo\",\"marker\":{\"colorbar\":{\"outlinewidth\":0,\"ticks\":\"\"}}}],\"scatterpolar\":[{\"type\":\"scatterpolar\",\"marker\":{\"colorbar\":{\"outlinewidth\":0,\"ticks\":\"\"}}}],\"histogram\":[{\"marker\":{\"pattern\":{\"fillmode\":\"overlay\",\"size\":10,\"solidity\":0.2}},\"type\":\"histogram\"}],\"scattergl\":[{\"type\":\"scattergl\",\"marker\":{\"colorbar\":{\"outlinewidth\":0,\"ticks\":\"\"}}}],\"scatter3d\":[{\"type\":\"scatter3d\",\"line\":{\"colorbar\":{\"outlinewidth\":0,\"ticks\":\"\"}},\"marker\":{\"colorbar\":{\"outlinewidth\":0,\"ticks\":\"\"}}}],\"scattermapbox\":[{\"type\":\"scattermapbox\",\"marker\":{\"colorbar\":{\"outlinewidth\":0,\"ticks\":\"\"}}}],\"scatterternary\":[{\"type\":\"scatterternary\",\"marker\":{\"colorbar\":{\"outlinewidth\":0,\"ticks\":\"\"}}}],\"scattercarpet\":[{\"type\":\"scattercarpet\",\"marker\":{\"colorbar\":{\"outlinewidth\":0,\"ticks\":\"\"}}}],\"carpet\":[{\"aaxis\":{\"endlinecolor\":\"#2a3f5f\",\"gridcolor\":\"white\",\"linecolor\":\"white\",\"minorgridcolor\":\"white\",\"startlinecolor\":\"#2a3f5f\"},\"baxis\":{\"endlinecolor\":\"#2a3f5f\",\"gridcolor\":\"white\",\"linecolor\":\"white\",\"minorgridcolor\":\"white\",\"startlinecolor\":\"#2a3f5f\"},\"type\":\"carpet\"}],\"table\":[{\"cells\":{\"fill\":{\"color\":\"#EBF0F8\"},\"line\":{\"color\":\"white\"}},\"header\":{\"fill\":{\"color\":\"#C8D4E3\"},\"line\":{\"color\":\"white\"}},\"type\":\"table\"}],\"barpolar\":[{\"marker\":{\"line\":{\"color\":\"#E5ECF6\",\"width\":0.5},\"pattern\":{\"fillmode\":\"overlay\",\"size\":10,\"solidity\":0.2}},\"type\":\"barpolar\"}],\"pie\":[{\"automargin\":true,\"type\":\"pie\"}]},\"layout\":{\"autotypenumbers\":\"strict\",\"colorway\":[\"#636efa\",\"#EF553B\",\"#00cc96\",\"#ab63fa\",\"#FFA15A\",\"#19d3f3\",\"#FF6692\",\"#B6E880\",\"#FF97FF\",\"#FECB52\"],\"font\":{\"color\":\"#2a3f5f\"},\"hovermode\":\"closest\",\"hoverlabel\":{\"align\":\"left\"},\"paper_bgcolor\":\"white\",\"plot_bgcolor\":\"#E5ECF6\",\"polar\":{\"bgcolor\":\"#E5ECF6\",\"angularaxis\":{\"gridcolor\":\"white\",\"linecolor\":\"white\",\"ticks\":\"\"},\"radialaxis\":{\"gridcolor\":\"white\",\"linecolor\":\"white\",\"ticks\":\"\"}},\"ternary\":{\"bgcolor\":\"#E5ECF6\",\"aaxis\":{\"gridcolor\":\"white\",\"linecolor\":\"white\",\"ticks\":\"\"},\"baxis\":{\"gridcolor\":\"white\",\"linecolor\":\"white\",\"ticks\":\"\"},\"caxis\":{\"gridcolor\":\"white\",\"linecolor\":\"white\",\"ticks\":\"\"}},\"coloraxis\":{\"colorbar\":{\"outlinewidth\":0,\"ticks\":\"\"}},\"colorscale\":{\"sequential\":[[0.0,\"#0d0887\"],[0.1111111111111111,\"#46039f\"],[0.2222222222222222,\"#7201a8\"],[0.3333333333333333,\"#9c179e\"],[0.4444444444444444,\"#bd3786\"],[0.5555555555555556,\"#d8576b\"],[0.6666666666666666,\"#ed7953\"],[0.7777777777777778,\"#fb9f3a\"],[0.8888888888888888,\"#fdca26\"],[1.0,\"#f0f921\"]],\"sequentialminus\":[[0.0,\"#0d0887\"],[0.1111111111111111,\"#46039f\"],[0.2222222222222222,\"#7201a8\"],[0.3333333333333333,\"#9c179e\"],[0.4444444444444444,\"#bd3786\"],[0.5555555555555556,\"#d8576b\"],[0.6666666666666666,\"#ed7953\"],[0.7777777777777778,\"#fb9f3a\"],[0.8888888888888888,\"#fdca26\"],[1.0,\"#f0f921\"]],\"diverging\":[[0,\"#8e0152\"],[0.1,\"#c51b7d\"],[0.2,\"#de77ae\"],[0.3,\"#f1b6da\"],[0.4,\"#fde0ef\"],[0.5,\"#f7f7f7\"],[0.6,\"#e6f5d0\"],[0.7,\"#b8e186\"],[0.8,\"#7fbc41\"],[0.9,\"#4d9221\"],[1,\"#276419\"]]},\"xaxis\":{\"gridcolor\":\"white\",\"linecolor\":\"white\",\"ticks\":\"\",\"title\":{\"standoff\":15},\"zerolinecolor\":\"white\",\"automargin\":true,\"zerolinewidth\":2},\"yaxis\":{\"gridcolor\":\"white\",\"linecolor\":\"white\",\"ticks\":\"\",\"title\":{\"standoff\":15},\"zerolinecolor\":\"white\",\"automargin\":true,\"zerolinewidth\":2},\"scene\":{\"xaxis\":{\"backgroundcolor\":\"#E5ECF6\",\"gridcolor\":\"white\",\"linecolor\":\"white\",\"showbackground\":true,\"ticks\":\"\",\"zerolinecolor\":\"white\",\"gridwidth\":2},\"yaxis\":{\"backgroundcolor\":\"#E5ECF6\",\"gridcolor\":\"white\",\"linecolor\":\"white\",\"showbackground\":true,\"ticks\":\"\",\"zerolinecolor\":\"white\",\"gridwidth\":2},\"zaxis\":{\"backgroundcolor\":\"#E5ECF6\",\"gridcolor\":\"white\",\"linecolor\":\"white\",\"showbackground\":true,\"ticks\":\"\",\"zerolinecolor\":\"white\",\"gridwidth\":2}},\"shapedefaults\":{\"line\":{\"color\":\"#2a3f5f\"}},\"annotationdefaults\":{\"arrowcolor\":\"#2a3f5f\",\"arrowhead\":0,\"arrowwidth\":1},\"geo\":{\"bgcolor\":\"white\",\"landcolor\":\"#E5ECF6\",\"subunitcolor\":\"white\",\"showland\":true,\"showlakes\":true,\"lakecolor\":\"white\"},\"title\":{\"x\":0.05},\"mapbox\":{\"style\":\"light\"}}},\"legend\":{\"tracegroupgap\":0},\"margin\":{\"t\":60}},                        {\"responsive\": true}                    ).then(function(){\n",
              "                            \n",
              "var gd = document.getElementById('5542bff2-d412-46c9-97ac-7f48ef1c0f1c');\n",
              "var x = new MutationObserver(function (mutations, observer) {{\n",
              "        var display = window.getComputedStyle(gd).display;\n",
              "        if (!display || display === 'none') {{\n",
              "            console.log([gd, 'removed!']);\n",
              "            Plotly.purge(gd);\n",
              "            observer.disconnect();\n",
              "        }}\n",
              "}});\n",
              "\n",
              "// Listen for the removal of the full notebook cells\n",
              "var notebookContainer = gd.closest('#notebook-container');\n",
              "if (notebookContainer) {{\n",
              "    x.observe(notebookContainer, {childList: true});\n",
              "}}\n",
              "\n",
              "// Listen for the clearing of the current output cell\n",
              "var outputEl = gd.closest('.output');\n",
              "if (outputEl) {{\n",
              "    x.observe(outputEl, {childList: true});\n",
              "}}\n",
              "\n",
              "                        })                };                            </script>        </div>\n",
              "</body>\n",
              "</html>"
            ]
          },
          "metadata": {}
        }
      ]
    },
    {
      "cell_type": "code",
      "source": [
        "fig = px.histogram(\n",
        "    resumeDataSet, x=\"Category\",\n",
        "    color = 'Category', \n",
        "    title=\"Distribution of Jobs Categories\"\n",
        ")\n",
        "fig.show()"
      ],
      "metadata": {
        "colab": {
          "base_uri": "https://localhost:8080/",
          "height": 542
        },
        "id": "6Zb-058cCu3b",
        "outputId": "6b544bba-7e91-429f-e8ba-04e25a527e30"
      },
      "execution_count": 8,
      "outputs": [
        {
          "output_type": "display_data",
          "data": {
            "text/html": [
              "<html>\n",
              "<head><meta charset=\"utf-8\" /></head>\n",
              "<body>\n",
              "    <div>            <script src=\"https://cdnjs.cloudflare.com/ajax/libs/mathjax/2.7.5/MathJax.js?config=TeX-AMS-MML_SVG\"></script><script type=\"text/javascript\">if (window.MathJax && window.MathJax.Hub && window.MathJax.Hub.Config) {window.MathJax.Hub.Config({SVG: {font: \"STIX-Web\"}});}</script>                <script type=\"text/javascript\">window.PlotlyConfig = {MathJaxConfig: 'local'};</script>\n",
              "        <script src=\"https://cdn.plot.ly/plotly-2.18.2.min.js\"></script>                <div id=\"75be3e88-f5b1-4847-88db-256ec4829d33\" class=\"plotly-graph-div\" style=\"height:525px; width:100%;\"></div>            <script type=\"text/javascript\">                                    window.PLOTLYENV=window.PLOTLYENV || {};                                    if (document.getElementById(\"75be3e88-f5b1-4847-88db-256ec4829d33\")) {                    Plotly.newPlot(                        \"75be3e88-f5b1-4847-88db-256ec4829d33\",                        [{\"alignmentgroup\":\"True\",\"bingroup\":\"x\",\"hovertemplate\":\"Category=%{x}<br>count=%{y}<extra></extra>\",\"legendgroup\":\"Data Science\",\"marker\":{\"color\":\"#636efa\",\"pattern\":{\"shape\":\"\"}},\"name\":\"Data Science\",\"offsetgroup\":\"Data Science\",\"orientation\":\"v\",\"showlegend\":true,\"x\":[\"Data Science\",\"Data Science\",\"Data Science\",\"Data Science\",\"Data Science\",\"Data Science\",\"Data Science\",\"Data Science\",\"Data Science\",\"Data Science\",\"Data Science\",\"Data Science\",\"Data Science\",\"Data Science\",\"Data Science\",\"Data Science\",\"Data Science\",\"Data Science\",\"Data Science\",\"Data Science\",\"Data Science\",\"Data Science\",\"Data Science\",\"Data Science\",\"Data Science\",\"Data Science\",\"Data Science\",\"Data Science\",\"Data Science\",\"Data Science\",\"Data Science\",\"Data Science\",\"Data Science\",\"Data Science\",\"Data Science\",\"Data Science\",\"Data Science\",\"Data Science\",\"Data Science\",\"Data Science\"],\"xaxis\":\"x\",\"yaxis\":\"y\",\"type\":\"histogram\"},{\"alignmentgroup\":\"True\",\"bingroup\":\"x\",\"hovertemplate\":\"Category=%{x}<br>count=%{y}<extra></extra>\",\"legendgroup\":\"HR\",\"marker\":{\"color\":\"#EF553B\",\"pattern\":{\"shape\":\"\"}},\"name\":\"HR\",\"offsetgroup\":\"HR\",\"orientation\":\"v\",\"showlegend\":true,\"x\":[\"HR\",\"HR\",\"HR\",\"HR\",\"HR\",\"HR\",\"HR\",\"HR\",\"HR\",\"HR\",\"HR\",\"HR\",\"HR\",\"HR\",\"HR\",\"HR\",\"HR\",\"HR\",\"HR\",\"HR\",\"HR\",\"HR\",\"HR\",\"HR\",\"HR\",\"HR\",\"HR\",\"HR\",\"HR\",\"HR\",\"HR\",\"HR\",\"HR\",\"HR\",\"HR\",\"HR\",\"HR\",\"HR\",\"HR\",\"HR\",\"HR\",\"HR\",\"HR\",\"HR\"],\"xaxis\":\"x\",\"yaxis\":\"y\",\"type\":\"histogram\"},{\"alignmentgroup\":\"True\",\"bingroup\":\"x\",\"hovertemplate\":\"Category=%{x}<br>count=%{y}<extra></extra>\",\"legendgroup\":\"Advocate\",\"marker\":{\"color\":\"#00cc96\",\"pattern\":{\"shape\":\"\"}},\"name\":\"Advocate\",\"offsetgroup\":\"Advocate\",\"orientation\":\"v\",\"showlegend\":true,\"x\":[\"Advocate\",\"Advocate\",\"Advocate\",\"Advocate\",\"Advocate\",\"Advocate\",\"Advocate\",\"Advocate\",\"Advocate\",\"Advocate\",\"Advocate\",\"Advocate\",\"Advocate\",\"Advocate\",\"Advocate\",\"Advocate\",\"Advocate\",\"Advocate\",\"Advocate\",\"Advocate\"],\"xaxis\":\"x\",\"yaxis\":\"y\",\"type\":\"histogram\"},{\"alignmentgroup\":\"True\",\"bingroup\":\"x\",\"hovertemplate\":\"Category=%{x}<br>count=%{y}<extra></extra>\",\"legendgroup\":\"Arts\",\"marker\":{\"color\":\"#ab63fa\",\"pattern\":{\"shape\":\"\"}},\"name\":\"Arts\",\"offsetgroup\":\"Arts\",\"orientation\":\"v\",\"showlegend\":true,\"x\":[\"Arts\",\"Arts\",\"Arts\",\"Arts\",\"Arts\",\"Arts\",\"Arts\",\"Arts\",\"Arts\",\"Arts\",\"Arts\",\"Arts\",\"Arts\",\"Arts\",\"Arts\",\"Arts\",\"Arts\",\"Arts\",\"Arts\",\"Arts\",\"Arts\",\"Arts\",\"Arts\",\"Arts\",\"Arts\",\"Arts\",\"Arts\",\"Arts\",\"Arts\",\"Arts\",\"Arts\",\"Arts\",\"Arts\",\"Arts\",\"Arts\",\"Arts\"],\"xaxis\":\"x\",\"yaxis\":\"y\",\"type\":\"histogram\"},{\"alignmentgroup\":\"True\",\"bingroup\":\"x\",\"hovertemplate\":\"Category=%{x}<br>count=%{y}<extra></extra>\",\"legendgroup\":\"Web Designing\",\"marker\":{\"color\":\"#FFA15A\",\"pattern\":{\"shape\":\"\"}},\"name\":\"Web Designing\",\"offsetgroup\":\"Web Designing\",\"orientation\":\"v\",\"showlegend\":true,\"x\":[\"Web Designing\",\"Web Designing\",\"Web Designing\",\"Web Designing\",\"Web Designing\",\"Web Designing\",\"Web Designing\",\"Web Designing\",\"Web Designing\",\"Web Designing\",\"Web Designing\",\"Web Designing\",\"Web Designing\",\"Web Designing\",\"Web Designing\",\"Web Designing\",\"Web Designing\",\"Web Designing\",\"Web Designing\",\"Web Designing\",\"Web Designing\",\"Web Designing\",\"Web Designing\",\"Web Designing\",\"Web Designing\",\"Web Designing\",\"Web Designing\",\"Web Designing\",\"Web Designing\",\"Web Designing\",\"Web Designing\",\"Web Designing\",\"Web Designing\",\"Web Designing\",\"Web Designing\",\"Web Designing\",\"Web Designing\",\"Web Designing\",\"Web Designing\",\"Web Designing\",\"Web Designing\",\"Web Designing\",\"Web Designing\",\"Web Designing\",\"Web Designing\"],\"xaxis\":\"x\",\"yaxis\":\"y\",\"type\":\"histogram\"},{\"alignmentgroup\":\"True\",\"bingroup\":\"x\",\"hovertemplate\":\"Category=%{x}<br>count=%{y}<extra></extra>\",\"legendgroup\":\"Mechanical Engineer\",\"marker\":{\"color\":\"#19d3f3\",\"pattern\":{\"shape\":\"\"}},\"name\":\"Mechanical Engineer\",\"offsetgroup\":\"Mechanical Engineer\",\"orientation\":\"v\",\"showlegend\":true,\"x\":[\"Mechanical Engineer\",\"Mechanical Engineer\",\"Mechanical Engineer\",\"Mechanical Engineer\",\"Mechanical Engineer\",\"Mechanical Engineer\",\"Mechanical Engineer\",\"Mechanical Engineer\",\"Mechanical Engineer\",\"Mechanical Engineer\",\"Mechanical Engineer\",\"Mechanical Engineer\",\"Mechanical Engineer\",\"Mechanical Engineer\",\"Mechanical Engineer\",\"Mechanical Engineer\",\"Mechanical Engineer\",\"Mechanical Engineer\",\"Mechanical Engineer\",\"Mechanical Engineer\",\"Mechanical Engineer\",\"Mechanical Engineer\",\"Mechanical Engineer\",\"Mechanical Engineer\",\"Mechanical Engineer\",\"Mechanical Engineer\",\"Mechanical Engineer\",\"Mechanical Engineer\",\"Mechanical Engineer\",\"Mechanical Engineer\",\"Mechanical Engineer\",\"Mechanical Engineer\",\"Mechanical Engineer\",\"Mechanical Engineer\",\"Mechanical Engineer\",\"Mechanical Engineer\",\"Mechanical Engineer\",\"Mechanical Engineer\",\"Mechanical Engineer\",\"Mechanical Engineer\"],\"xaxis\":\"x\",\"yaxis\":\"y\",\"type\":\"histogram\"},{\"alignmentgroup\":\"True\",\"bingroup\":\"x\",\"hovertemplate\":\"Category=%{x}<br>count=%{y}<extra></extra>\",\"legendgroup\":\"Sales\",\"marker\":{\"color\":\"#FF6692\",\"pattern\":{\"shape\":\"\"}},\"name\":\"Sales\",\"offsetgroup\":\"Sales\",\"orientation\":\"v\",\"showlegend\":true,\"x\":[\"Sales\",\"Sales\",\"Sales\",\"Sales\",\"Sales\",\"Sales\",\"Sales\",\"Sales\",\"Sales\",\"Sales\",\"Sales\",\"Sales\",\"Sales\",\"Sales\",\"Sales\",\"Sales\",\"Sales\",\"Sales\",\"Sales\",\"Sales\",\"Sales\",\"Sales\",\"Sales\",\"Sales\",\"Sales\",\"Sales\",\"Sales\",\"Sales\",\"Sales\",\"Sales\",\"Sales\",\"Sales\",\"Sales\",\"Sales\",\"Sales\",\"Sales\",\"Sales\",\"Sales\",\"Sales\",\"Sales\"],\"xaxis\":\"x\",\"yaxis\":\"y\",\"type\":\"histogram\"},{\"alignmentgroup\":\"True\",\"bingroup\":\"x\",\"hovertemplate\":\"Category=%{x}<br>count=%{y}<extra></extra>\",\"legendgroup\":\"Health and fitness\",\"marker\":{\"color\":\"#B6E880\",\"pattern\":{\"shape\":\"\"}},\"name\":\"Health and fitness\",\"offsetgroup\":\"Health and fitness\",\"orientation\":\"v\",\"showlegend\":true,\"x\":[\"Health and fitness\",\"Health and fitness\",\"Health and fitness\",\"Health and fitness\",\"Health and fitness\",\"Health and fitness\",\"Health and fitness\",\"Health and fitness\",\"Health and fitness\",\"Health and fitness\",\"Health and fitness\",\"Health and fitness\",\"Health and fitness\",\"Health and fitness\",\"Health and fitness\",\"Health and fitness\",\"Health and fitness\",\"Health and fitness\",\"Health and fitness\",\"Health and fitness\",\"Health and fitness\",\"Health and fitness\",\"Health and fitness\",\"Health and fitness\",\"Health and fitness\",\"Health and fitness\",\"Health and fitness\",\"Health and fitness\",\"Health and fitness\",\"Health and fitness\"],\"xaxis\":\"x\",\"yaxis\":\"y\",\"type\":\"histogram\"},{\"alignmentgroup\":\"True\",\"bingroup\":\"x\",\"hovertemplate\":\"Category=%{x}<br>count=%{y}<extra></extra>\",\"legendgroup\":\"Civil Engineer\",\"marker\":{\"color\":\"#FF97FF\",\"pattern\":{\"shape\":\"\"}},\"name\":\"Civil Engineer\",\"offsetgroup\":\"Civil Engineer\",\"orientation\":\"v\",\"showlegend\":true,\"x\":[\"Civil Engineer\",\"Civil Engineer\",\"Civil Engineer\",\"Civil Engineer\",\"Civil Engineer\",\"Civil Engineer\",\"Civil Engineer\",\"Civil Engineer\",\"Civil Engineer\",\"Civil Engineer\",\"Civil Engineer\",\"Civil Engineer\",\"Civil Engineer\",\"Civil Engineer\",\"Civil Engineer\",\"Civil Engineer\",\"Civil Engineer\",\"Civil Engineer\",\"Civil Engineer\",\"Civil Engineer\",\"Civil Engineer\",\"Civil Engineer\",\"Civil Engineer\",\"Civil Engineer\"],\"xaxis\":\"x\",\"yaxis\":\"y\",\"type\":\"histogram\"},{\"alignmentgroup\":\"True\",\"bingroup\":\"x\",\"hovertemplate\":\"Category=%{x}<br>count=%{y}<extra></extra>\",\"legendgroup\":\"Java Developer\",\"marker\":{\"color\":\"#FECB52\",\"pattern\":{\"shape\":\"\"}},\"name\":\"Java Developer\",\"offsetgroup\":\"Java Developer\",\"orientation\":\"v\",\"showlegend\":true,\"x\":[\"Java Developer\",\"Java Developer\",\"Java Developer\",\"Java Developer\",\"Java Developer\",\"Java Developer\",\"Java Developer\",\"Java Developer\",\"Java Developer\",\"Java Developer\",\"Java Developer\",\"Java Developer\",\"Java Developer\",\"Java Developer\",\"Java Developer\",\"Java Developer\",\"Java Developer\",\"Java Developer\",\"Java Developer\",\"Java Developer\",\"Java Developer\",\"Java Developer\",\"Java Developer\",\"Java Developer\",\"Java Developer\",\"Java Developer\",\"Java Developer\",\"Java Developer\",\"Java Developer\",\"Java Developer\",\"Java Developer\",\"Java Developer\",\"Java Developer\",\"Java Developer\",\"Java Developer\",\"Java Developer\",\"Java Developer\",\"Java Developer\",\"Java Developer\",\"Java Developer\",\"Java Developer\",\"Java Developer\",\"Java Developer\",\"Java Developer\",\"Java Developer\",\"Java Developer\",\"Java Developer\",\"Java Developer\",\"Java Developer\",\"Java Developer\",\"Java Developer\",\"Java Developer\",\"Java Developer\",\"Java Developer\",\"Java Developer\",\"Java Developer\",\"Java Developer\",\"Java Developer\",\"Java Developer\",\"Java Developer\",\"Java Developer\",\"Java Developer\",\"Java Developer\",\"Java Developer\",\"Java Developer\",\"Java Developer\",\"Java Developer\",\"Java Developer\",\"Java Developer\",\"Java Developer\",\"Java Developer\",\"Java Developer\",\"Java Developer\",\"Java Developer\",\"Java Developer\",\"Java Developer\",\"Java Developer\",\"Java Developer\",\"Java Developer\",\"Java Developer\",\"Java Developer\",\"Java Developer\",\"Java Developer\",\"Java Developer\"],\"xaxis\":\"x\",\"yaxis\":\"y\",\"type\":\"histogram\"},{\"alignmentgroup\":\"True\",\"bingroup\":\"x\",\"hovertemplate\":\"Category=%{x}<br>count=%{y}<extra></extra>\",\"legendgroup\":\"Business Analyst\",\"marker\":{\"color\":\"#636efa\",\"pattern\":{\"shape\":\"\"}},\"name\":\"Business Analyst\",\"offsetgroup\":\"Business Analyst\",\"orientation\":\"v\",\"showlegend\":true,\"x\":[\"Business Analyst\",\"Business Analyst\",\"Business Analyst\",\"Business Analyst\",\"Business Analyst\",\"Business Analyst\",\"Business Analyst\",\"Business Analyst\",\"Business Analyst\",\"Business Analyst\",\"Business Analyst\",\"Business Analyst\",\"Business Analyst\",\"Business Analyst\",\"Business Analyst\",\"Business Analyst\",\"Business Analyst\",\"Business Analyst\",\"Business Analyst\",\"Business Analyst\",\"Business Analyst\",\"Business Analyst\",\"Business Analyst\",\"Business Analyst\",\"Business Analyst\",\"Business Analyst\",\"Business Analyst\",\"Business Analyst\"],\"xaxis\":\"x\",\"yaxis\":\"y\",\"type\":\"histogram\"},{\"alignmentgroup\":\"True\",\"bingroup\":\"x\",\"hovertemplate\":\"Category=%{x}<br>count=%{y}<extra></extra>\",\"legendgroup\":\"SAP Developer\",\"marker\":{\"color\":\"#EF553B\",\"pattern\":{\"shape\":\"\"}},\"name\":\"SAP Developer\",\"offsetgroup\":\"SAP Developer\",\"orientation\":\"v\",\"showlegend\":true,\"x\":[\"SAP Developer\",\"SAP Developer\",\"SAP Developer\",\"SAP Developer\",\"SAP Developer\",\"SAP Developer\",\"SAP Developer\",\"SAP Developer\",\"SAP Developer\",\"SAP Developer\",\"SAP Developer\",\"SAP Developer\",\"SAP Developer\",\"SAP Developer\",\"SAP Developer\",\"SAP Developer\",\"SAP Developer\",\"SAP Developer\",\"SAP Developer\",\"SAP Developer\",\"SAP Developer\",\"SAP Developer\",\"SAP Developer\",\"SAP Developer\"],\"xaxis\":\"x\",\"yaxis\":\"y\",\"type\":\"histogram\"},{\"alignmentgroup\":\"True\",\"bingroup\":\"x\",\"hovertemplate\":\"Category=%{x}<br>count=%{y}<extra></extra>\",\"legendgroup\":\"Automation Testing\",\"marker\":{\"color\":\"#00cc96\",\"pattern\":{\"shape\":\"\"}},\"name\":\"Automation Testing\",\"offsetgroup\":\"Automation Testing\",\"orientation\":\"v\",\"showlegend\":true,\"x\":[\"Automation Testing\",\"Automation Testing\",\"Automation Testing\",\"Automation Testing\",\"Automation Testing\",\"Automation Testing\",\"Automation Testing\",\"Automation Testing\",\"Automation Testing\",\"Automation Testing\",\"Automation Testing\",\"Automation Testing\",\"Automation Testing\",\"Automation Testing\",\"Automation Testing\",\"Automation Testing\",\"Automation Testing\",\"Automation Testing\",\"Automation Testing\",\"Automation Testing\",\"Automation Testing\",\"Automation Testing\",\"Automation Testing\",\"Automation Testing\",\"Automation Testing\",\"Automation Testing\"],\"xaxis\":\"x\",\"yaxis\":\"y\",\"type\":\"histogram\"},{\"alignmentgroup\":\"True\",\"bingroup\":\"x\",\"hovertemplate\":\"Category=%{x}<br>count=%{y}<extra></extra>\",\"legendgroup\":\"Electrical Engineering\",\"marker\":{\"color\":\"#ab63fa\",\"pattern\":{\"shape\":\"\"}},\"name\":\"Electrical Engineering\",\"offsetgroup\":\"Electrical Engineering\",\"orientation\":\"v\",\"showlegend\":true,\"x\":[\"Electrical Engineering\",\"Electrical Engineering\",\"Electrical Engineering\",\"Electrical Engineering\",\"Electrical Engineering\",\"Electrical Engineering\",\"Electrical Engineering\",\"Electrical Engineering\",\"Electrical Engineering\",\"Electrical Engineering\",\"Electrical Engineering\",\"Electrical Engineering\",\"Electrical Engineering\",\"Electrical Engineering\",\"Electrical Engineering\",\"Electrical Engineering\",\"Electrical Engineering\",\"Electrical Engineering\",\"Electrical Engineering\",\"Electrical Engineering\",\"Electrical Engineering\",\"Electrical Engineering\",\"Electrical Engineering\",\"Electrical Engineering\",\"Electrical Engineering\",\"Electrical Engineering\",\"Electrical Engineering\",\"Electrical Engineering\",\"Electrical Engineering\",\"Electrical Engineering\"],\"xaxis\":\"x\",\"yaxis\":\"y\",\"type\":\"histogram\"},{\"alignmentgroup\":\"True\",\"bingroup\":\"x\",\"hovertemplate\":\"Category=%{x}<br>count=%{y}<extra></extra>\",\"legendgroup\":\"Operations Manager\",\"marker\":{\"color\":\"#FFA15A\",\"pattern\":{\"shape\":\"\"}},\"name\":\"Operations Manager\",\"offsetgroup\":\"Operations Manager\",\"orientation\":\"v\",\"showlegend\":true,\"x\":[\"Operations Manager\",\"Operations Manager\",\"Operations Manager\",\"Operations Manager\",\"Operations Manager\",\"Operations Manager\",\"Operations Manager\",\"Operations Manager\",\"Operations Manager\",\"Operations Manager\",\"Operations Manager\",\"Operations Manager\",\"Operations Manager\",\"Operations Manager\",\"Operations Manager\",\"Operations Manager\",\"Operations Manager\",\"Operations Manager\",\"Operations Manager\",\"Operations Manager\",\"Operations Manager\",\"Operations Manager\",\"Operations Manager\",\"Operations Manager\",\"Operations Manager\",\"Operations Manager\",\"Operations Manager\",\"Operations Manager\",\"Operations Manager\",\"Operations Manager\",\"Operations Manager\",\"Operations Manager\",\"Operations Manager\",\"Operations Manager\",\"Operations Manager\",\"Operations Manager\",\"Operations Manager\",\"Operations Manager\",\"Operations Manager\",\"Operations Manager\"],\"xaxis\":\"x\",\"yaxis\":\"y\",\"type\":\"histogram\"},{\"alignmentgroup\":\"True\",\"bingroup\":\"x\",\"hovertemplate\":\"Category=%{x}<br>count=%{y}<extra></extra>\",\"legendgroup\":\"Python Developer\",\"marker\":{\"color\":\"#19d3f3\",\"pattern\":{\"shape\":\"\"}},\"name\":\"Python Developer\",\"offsetgroup\":\"Python Developer\",\"orientation\":\"v\",\"showlegend\":true,\"x\":[\"Python Developer\",\"Python Developer\",\"Python Developer\",\"Python Developer\",\"Python Developer\",\"Python Developer\",\"Python Developer\",\"Python Developer\",\"Python Developer\",\"Python Developer\",\"Python Developer\",\"Python Developer\",\"Python Developer\",\"Python Developer\",\"Python Developer\",\"Python Developer\",\"Python Developer\",\"Python Developer\",\"Python Developer\",\"Python Developer\",\"Python Developer\",\"Python Developer\",\"Python Developer\",\"Python Developer\",\"Python Developer\",\"Python Developer\",\"Python Developer\",\"Python Developer\",\"Python Developer\",\"Python Developer\",\"Python Developer\",\"Python Developer\",\"Python Developer\",\"Python Developer\",\"Python Developer\",\"Python Developer\",\"Python Developer\",\"Python Developer\",\"Python Developer\",\"Python Developer\",\"Python Developer\",\"Python Developer\",\"Python Developer\",\"Python Developer\",\"Python Developer\",\"Python Developer\",\"Python Developer\",\"Python Developer\"],\"xaxis\":\"x\",\"yaxis\":\"y\",\"type\":\"histogram\"},{\"alignmentgroup\":\"True\",\"bingroup\":\"x\",\"hovertemplate\":\"Category=%{x}<br>count=%{y}<extra></extra>\",\"legendgroup\":\"DevOps Engineer\",\"marker\":{\"color\":\"#FF6692\",\"pattern\":{\"shape\":\"\"}},\"name\":\"DevOps Engineer\",\"offsetgroup\":\"DevOps Engineer\",\"orientation\":\"v\",\"showlegend\":true,\"x\":[\"DevOps Engineer\",\"DevOps Engineer\",\"DevOps Engineer\",\"DevOps Engineer\",\"DevOps Engineer\",\"DevOps Engineer\",\"DevOps Engineer\",\"DevOps Engineer\",\"DevOps Engineer\",\"DevOps Engineer\",\"DevOps Engineer\",\"DevOps Engineer\",\"DevOps Engineer\",\"DevOps Engineer\",\"DevOps Engineer\",\"DevOps Engineer\",\"DevOps Engineer\",\"DevOps Engineer\",\"DevOps Engineer\",\"DevOps Engineer\",\"DevOps Engineer\",\"DevOps Engineer\",\"DevOps Engineer\",\"DevOps Engineer\",\"DevOps Engineer\",\"DevOps Engineer\",\"DevOps Engineer\",\"DevOps Engineer\",\"DevOps Engineer\",\"DevOps Engineer\",\"DevOps Engineer\",\"DevOps Engineer\",\"DevOps Engineer\",\"DevOps Engineer\",\"DevOps Engineer\",\"DevOps Engineer\",\"DevOps Engineer\",\"DevOps Engineer\",\"DevOps Engineer\",\"DevOps Engineer\",\"DevOps Engineer\",\"DevOps Engineer\",\"DevOps Engineer\",\"DevOps Engineer\",\"DevOps Engineer\",\"DevOps Engineer\",\"DevOps Engineer\",\"DevOps Engineer\",\"DevOps Engineer\",\"DevOps Engineer\",\"DevOps Engineer\",\"DevOps Engineer\",\"DevOps Engineer\",\"DevOps Engineer\",\"DevOps Engineer\"],\"xaxis\":\"x\",\"yaxis\":\"y\",\"type\":\"histogram\"},{\"alignmentgroup\":\"True\",\"bingroup\":\"x\",\"hovertemplate\":\"Category=%{x}<br>count=%{y}<extra></extra>\",\"legendgroup\":\"Network Security Engineer\",\"marker\":{\"color\":\"#B6E880\",\"pattern\":{\"shape\":\"\"}},\"name\":\"Network Security Engineer\",\"offsetgroup\":\"Network Security Engineer\",\"orientation\":\"v\",\"showlegend\":true,\"x\":[\"Network Security Engineer\",\"Network Security Engineer\",\"Network Security Engineer\",\"Network Security Engineer\",\"Network Security Engineer\",\"Network Security Engineer\",\"Network Security Engineer\",\"Network Security Engineer\",\"Network Security Engineer\",\"Network Security Engineer\",\"Network Security Engineer\",\"Network Security Engineer\",\"Network Security Engineer\",\"Network Security Engineer\",\"Network Security Engineer\",\"Network Security Engineer\",\"Network Security Engineer\",\"Network Security Engineer\",\"Network Security Engineer\",\"Network Security Engineer\",\"Network Security Engineer\",\"Network Security Engineer\",\"Network Security Engineer\",\"Network Security Engineer\",\"Network Security Engineer\"],\"xaxis\":\"x\",\"yaxis\":\"y\",\"type\":\"histogram\"},{\"alignmentgroup\":\"True\",\"bingroup\":\"x\",\"hovertemplate\":\"Category=%{x}<br>count=%{y}<extra></extra>\",\"legendgroup\":\"PMO\",\"marker\":{\"color\":\"#FF97FF\",\"pattern\":{\"shape\":\"\"}},\"name\":\"PMO\",\"offsetgroup\":\"PMO\",\"orientation\":\"v\",\"showlegend\":true,\"x\":[\"PMO\",\"PMO\",\"PMO\",\"PMO\",\"PMO\",\"PMO\",\"PMO\",\"PMO\",\"PMO\",\"PMO\",\"PMO\",\"PMO\",\"PMO\",\"PMO\",\"PMO\",\"PMO\",\"PMO\",\"PMO\",\"PMO\",\"PMO\",\"PMO\",\"PMO\",\"PMO\",\"PMO\",\"PMO\",\"PMO\",\"PMO\",\"PMO\",\"PMO\",\"PMO\"],\"xaxis\":\"x\",\"yaxis\":\"y\",\"type\":\"histogram\"},{\"alignmentgroup\":\"True\",\"bingroup\":\"x\",\"hovertemplate\":\"Category=%{x}<br>count=%{y}<extra></extra>\",\"legendgroup\":\"Database\",\"marker\":{\"color\":\"#FECB52\",\"pattern\":{\"shape\":\"\"}},\"name\":\"Database\",\"offsetgroup\":\"Database\",\"orientation\":\"v\",\"showlegend\":true,\"x\":[\"Database\",\"Database\",\"Database\",\"Database\",\"Database\",\"Database\",\"Database\",\"Database\",\"Database\",\"Database\",\"Database\",\"Database\",\"Database\",\"Database\",\"Database\",\"Database\",\"Database\",\"Database\",\"Database\",\"Database\",\"Database\",\"Database\",\"Database\",\"Database\",\"Database\",\"Database\",\"Database\",\"Database\",\"Database\",\"Database\",\"Database\",\"Database\",\"Database\"],\"xaxis\":\"x\",\"yaxis\":\"y\",\"type\":\"histogram\"},{\"alignmentgroup\":\"True\",\"bingroup\":\"x\",\"hovertemplate\":\"Category=%{x}<br>count=%{y}<extra></extra>\",\"legendgroup\":\"Hadoop\",\"marker\":{\"color\":\"#636efa\",\"pattern\":{\"shape\":\"\"}},\"name\":\"Hadoop\",\"offsetgroup\":\"Hadoop\",\"orientation\":\"v\",\"showlegend\":true,\"x\":[\"Hadoop\",\"Hadoop\",\"Hadoop\",\"Hadoop\",\"Hadoop\",\"Hadoop\",\"Hadoop\",\"Hadoop\",\"Hadoop\",\"Hadoop\",\"Hadoop\",\"Hadoop\",\"Hadoop\",\"Hadoop\",\"Hadoop\",\"Hadoop\",\"Hadoop\",\"Hadoop\",\"Hadoop\",\"Hadoop\",\"Hadoop\",\"Hadoop\",\"Hadoop\",\"Hadoop\",\"Hadoop\",\"Hadoop\",\"Hadoop\",\"Hadoop\",\"Hadoop\",\"Hadoop\",\"Hadoop\",\"Hadoop\",\"Hadoop\",\"Hadoop\",\"Hadoop\",\"Hadoop\",\"Hadoop\",\"Hadoop\",\"Hadoop\",\"Hadoop\",\"Hadoop\",\"Hadoop\"],\"xaxis\":\"x\",\"yaxis\":\"y\",\"type\":\"histogram\"},{\"alignmentgroup\":\"True\",\"bingroup\":\"x\",\"hovertemplate\":\"Category=%{x}<br>count=%{y}<extra></extra>\",\"legendgroup\":\"ETL Developer\",\"marker\":{\"color\":\"#EF553B\",\"pattern\":{\"shape\":\"\"}},\"name\":\"ETL Developer\",\"offsetgroup\":\"ETL Developer\",\"orientation\":\"v\",\"showlegend\":true,\"x\":[\"ETL Developer\",\"ETL Developer\",\"ETL Developer\",\"ETL Developer\",\"ETL Developer\",\"ETL Developer\",\"ETL Developer\",\"ETL Developer\",\"ETL Developer\",\"ETL Developer\",\"ETL Developer\",\"ETL Developer\",\"ETL Developer\",\"ETL Developer\",\"ETL Developer\",\"ETL Developer\",\"ETL Developer\",\"ETL Developer\",\"ETL Developer\",\"ETL Developer\",\"ETL Developer\",\"ETL Developer\",\"ETL Developer\",\"ETL Developer\",\"ETL Developer\",\"ETL Developer\",\"ETL Developer\",\"ETL Developer\",\"ETL Developer\",\"ETL Developer\",\"ETL Developer\",\"ETL Developer\",\"ETL Developer\",\"ETL Developer\",\"ETL Developer\",\"ETL Developer\",\"ETL Developer\",\"ETL Developer\",\"ETL Developer\",\"ETL Developer\"],\"xaxis\":\"x\",\"yaxis\":\"y\",\"type\":\"histogram\"},{\"alignmentgroup\":\"True\",\"bingroup\":\"x\",\"hovertemplate\":\"Category=%{x}<br>count=%{y}<extra></extra>\",\"legendgroup\":\"DotNet Developer\",\"marker\":{\"color\":\"#00cc96\",\"pattern\":{\"shape\":\"\"}},\"name\":\"DotNet Developer\",\"offsetgroup\":\"DotNet Developer\",\"orientation\":\"v\",\"showlegend\":true,\"x\":[\"DotNet Developer\",\"DotNet Developer\",\"DotNet Developer\",\"DotNet Developer\",\"DotNet Developer\",\"DotNet Developer\",\"DotNet Developer\",\"DotNet Developer\",\"DotNet Developer\",\"DotNet Developer\",\"DotNet Developer\",\"DotNet Developer\",\"DotNet Developer\",\"DotNet Developer\",\"DotNet Developer\",\"DotNet Developer\",\"DotNet Developer\",\"DotNet Developer\",\"DotNet Developer\",\"DotNet Developer\",\"DotNet Developer\",\"DotNet Developer\",\"DotNet Developer\",\"DotNet Developer\",\"DotNet Developer\",\"DotNet Developer\",\"DotNet Developer\",\"DotNet Developer\"],\"xaxis\":\"x\",\"yaxis\":\"y\",\"type\":\"histogram\"},{\"alignmentgroup\":\"True\",\"bingroup\":\"x\",\"hovertemplate\":\"Category=%{x}<br>count=%{y}<extra></extra>\",\"legendgroup\":\"Blockchain\",\"marker\":{\"color\":\"#ab63fa\",\"pattern\":{\"shape\":\"\"}},\"name\":\"Blockchain\",\"offsetgroup\":\"Blockchain\",\"orientation\":\"v\",\"showlegend\":true,\"x\":[\"Blockchain\",\"Blockchain\",\"Blockchain\",\"Blockchain\",\"Blockchain\",\"Blockchain\",\"Blockchain\",\"Blockchain\",\"Blockchain\",\"Blockchain\",\"Blockchain\",\"Blockchain\",\"Blockchain\",\"Blockchain\",\"Blockchain\",\"Blockchain\",\"Blockchain\",\"Blockchain\",\"Blockchain\",\"Blockchain\",\"Blockchain\",\"Blockchain\",\"Blockchain\",\"Blockchain\",\"Blockchain\",\"Blockchain\",\"Blockchain\",\"Blockchain\",\"Blockchain\",\"Blockchain\",\"Blockchain\",\"Blockchain\",\"Blockchain\",\"Blockchain\",\"Blockchain\",\"Blockchain\",\"Blockchain\",\"Blockchain\",\"Blockchain\",\"Blockchain\"],\"xaxis\":\"x\",\"yaxis\":\"y\",\"type\":\"histogram\"},{\"alignmentgroup\":\"True\",\"bingroup\":\"x\",\"hovertemplate\":\"Category=%{x}<br>count=%{y}<extra></extra>\",\"legendgroup\":\"Testing\",\"marker\":{\"color\":\"#FFA15A\",\"pattern\":{\"shape\":\"\"}},\"name\":\"Testing\",\"offsetgroup\":\"Testing\",\"orientation\":\"v\",\"showlegend\":true,\"x\":[\"Testing\",\"Testing\",\"Testing\",\"Testing\",\"Testing\",\"Testing\",\"Testing\",\"Testing\",\"Testing\",\"Testing\",\"Testing\",\"Testing\",\"Testing\",\"Testing\",\"Testing\",\"Testing\",\"Testing\",\"Testing\",\"Testing\",\"Testing\",\"Testing\",\"Testing\",\"Testing\",\"Testing\",\"Testing\",\"Testing\",\"Testing\",\"Testing\",\"Testing\",\"Testing\",\"Testing\",\"Testing\",\"Testing\",\"Testing\",\"Testing\",\"Testing\",\"Testing\",\"Testing\",\"Testing\",\"Testing\",\"Testing\",\"Testing\",\"Testing\",\"Testing\",\"Testing\",\"Testing\",\"Testing\",\"Testing\",\"Testing\",\"Testing\",\"Testing\",\"Testing\",\"Testing\",\"Testing\",\"Testing\",\"Testing\",\"Testing\",\"Testing\",\"Testing\",\"Testing\",\"Testing\",\"Testing\",\"Testing\",\"Testing\",\"Testing\",\"Testing\",\"Testing\",\"Testing\",\"Testing\",\"Testing\"],\"xaxis\":\"x\",\"yaxis\":\"y\",\"type\":\"histogram\"}],                        {\"template\":{\"data\":{\"histogram2dcontour\":[{\"type\":\"histogram2dcontour\",\"colorbar\":{\"outlinewidth\":0,\"ticks\":\"\"},\"colorscale\":[[0.0,\"#0d0887\"],[0.1111111111111111,\"#46039f\"],[0.2222222222222222,\"#7201a8\"],[0.3333333333333333,\"#9c179e\"],[0.4444444444444444,\"#bd3786\"],[0.5555555555555556,\"#d8576b\"],[0.6666666666666666,\"#ed7953\"],[0.7777777777777778,\"#fb9f3a\"],[0.8888888888888888,\"#fdca26\"],[1.0,\"#f0f921\"]]}],\"choropleth\":[{\"type\":\"choropleth\",\"colorbar\":{\"outlinewidth\":0,\"ticks\":\"\"}}],\"histogram2d\":[{\"type\":\"histogram2d\",\"colorbar\":{\"outlinewidth\":0,\"ticks\":\"\"},\"colorscale\":[[0.0,\"#0d0887\"],[0.1111111111111111,\"#46039f\"],[0.2222222222222222,\"#7201a8\"],[0.3333333333333333,\"#9c179e\"],[0.4444444444444444,\"#bd3786\"],[0.5555555555555556,\"#d8576b\"],[0.6666666666666666,\"#ed7953\"],[0.7777777777777778,\"#fb9f3a\"],[0.8888888888888888,\"#fdca26\"],[1.0,\"#f0f921\"]]}],\"heatmap\":[{\"type\":\"heatmap\",\"colorbar\":{\"outlinewidth\":0,\"ticks\":\"\"},\"colorscale\":[[0.0,\"#0d0887\"],[0.1111111111111111,\"#46039f\"],[0.2222222222222222,\"#7201a8\"],[0.3333333333333333,\"#9c179e\"],[0.4444444444444444,\"#bd3786\"],[0.5555555555555556,\"#d8576b\"],[0.6666666666666666,\"#ed7953\"],[0.7777777777777778,\"#fb9f3a\"],[0.8888888888888888,\"#fdca26\"],[1.0,\"#f0f921\"]]}],\"heatmapgl\":[{\"type\":\"heatmapgl\",\"colorbar\":{\"outlinewidth\":0,\"ticks\":\"\"},\"colorscale\":[[0.0,\"#0d0887\"],[0.1111111111111111,\"#46039f\"],[0.2222222222222222,\"#7201a8\"],[0.3333333333333333,\"#9c179e\"],[0.4444444444444444,\"#bd3786\"],[0.5555555555555556,\"#d8576b\"],[0.6666666666666666,\"#ed7953\"],[0.7777777777777778,\"#fb9f3a\"],[0.8888888888888888,\"#fdca26\"],[1.0,\"#f0f921\"]]}],\"contourcarpet\":[{\"type\":\"contourcarpet\",\"colorbar\":{\"outlinewidth\":0,\"ticks\":\"\"}}],\"contour\":[{\"type\":\"contour\",\"colorbar\":{\"outlinewidth\":0,\"ticks\":\"\"},\"colorscale\":[[0.0,\"#0d0887\"],[0.1111111111111111,\"#46039f\"],[0.2222222222222222,\"#7201a8\"],[0.3333333333333333,\"#9c179e\"],[0.4444444444444444,\"#bd3786\"],[0.5555555555555556,\"#d8576b\"],[0.6666666666666666,\"#ed7953\"],[0.7777777777777778,\"#fb9f3a\"],[0.8888888888888888,\"#fdca26\"],[1.0,\"#f0f921\"]]}],\"surface\":[{\"type\":\"surface\",\"colorbar\":{\"outlinewidth\":0,\"ticks\":\"\"},\"colorscale\":[[0.0,\"#0d0887\"],[0.1111111111111111,\"#46039f\"],[0.2222222222222222,\"#7201a8\"],[0.3333333333333333,\"#9c179e\"],[0.4444444444444444,\"#bd3786\"],[0.5555555555555556,\"#d8576b\"],[0.6666666666666666,\"#ed7953\"],[0.7777777777777778,\"#fb9f3a\"],[0.8888888888888888,\"#fdca26\"],[1.0,\"#f0f921\"]]}],\"mesh3d\":[{\"type\":\"mesh3d\",\"colorbar\":{\"outlinewidth\":0,\"ticks\":\"\"}}],\"scatter\":[{\"fillpattern\":{\"fillmode\":\"overlay\",\"size\":10,\"solidity\":0.2},\"type\":\"scatter\"}],\"parcoords\":[{\"type\":\"parcoords\",\"line\":{\"colorbar\":{\"outlinewidth\":0,\"ticks\":\"\"}}}],\"scatterpolargl\":[{\"type\":\"scatterpolargl\",\"marker\":{\"colorbar\":{\"outlinewidth\":0,\"ticks\":\"\"}}}],\"bar\":[{\"error_x\":{\"color\":\"#2a3f5f\"},\"error_y\":{\"color\":\"#2a3f5f\"},\"marker\":{\"line\":{\"color\":\"#E5ECF6\",\"width\":0.5},\"pattern\":{\"fillmode\":\"overlay\",\"size\":10,\"solidity\":0.2}},\"type\":\"bar\"}],\"scattergeo\":[{\"type\":\"scattergeo\",\"marker\":{\"colorbar\":{\"outlinewidth\":0,\"ticks\":\"\"}}}],\"scatterpolar\":[{\"type\":\"scatterpolar\",\"marker\":{\"colorbar\":{\"outlinewidth\":0,\"ticks\":\"\"}}}],\"histogram\":[{\"marker\":{\"pattern\":{\"fillmode\":\"overlay\",\"size\":10,\"solidity\":0.2}},\"type\":\"histogram\"}],\"scattergl\":[{\"type\":\"scattergl\",\"marker\":{\"colorbar\":{\"outlinewidth\":0,\"ticks\":\"\"}}}],\"scatter3d\":[{\"type\":\"scatter3d\",\"line\":{\"colorbar\":{\"outlinewidth\":0,\"ticks\":\"\"}},\"marker\":{\"colorbar\":{\"outlinewidth\":0,\"ticks\":\"\"}}}],\"scattermapbox\":[{\"type\":\"scattermapbox\",\"marker\":{\"colorbar\":{\"outlinewidth\":0,\"ticks\":\"\"}}}],\"scatterternary\":[{\"type\":\"scatterternary\",\"marker\":{\"colorbar\":{\"outlinewidth\":0,\"ticks\":\"\"}}}],\"scattercarpet\":[{\"type\":\"scattercarpet\",\"marker\":{\"colorbar\":{\"outlinewidth\":0,\"ticks\":\"\"}}}],\"carpet\":[{\"aaxis\":{\"endlinecolor\":\"#2a3f5f\",\"gridcolor\":\"white\",\"linecolor\":\"white\",\"minorgridcolor\":\"white\",\"startlinecolor\":\"#2a3f5f\"},\"baxis\":{\"endlinecolor\":\"#2a3f5f\",\"gridcolor\":\"white\",\"linecolor\":\"white\",\"minorgridcolor\":\"white\",\"startlinecolor\":\"#2a3f5f\"},\"type\":\"carpet\"}],\"table\":[{\"cells\":{\"fill\":{\"color\":\"#EBF0F8\"},\"line\":{\"color\":\"white\"}},\"header\":{\"fill\":{\"color\":\"#C8D4E3\"},\"line\":{\"color\":\"white\"}},\"type\":\"table\"}],\"barpolar\":[{\"marker\":{\"line\":{\"color\":\"#E5ECF6\",\"width\":0.5},\"pattern\":{\"fillmode\":\"overlay\",\"size\":10,\"solidity\":0.2}},\"type\":\"barpolar\"}],\"pie\":[{\"automargin\":true,\"type\":\"pie\"}]},\"layout\":{\"autotypenumbers\":\"strict\",\"colorway\":[\"#636efa\",\"#EF553B\",\"#00cc96\",\"#ab63fa\",\"#FFA15A\",\"#19d3f3\",\"#FF6692\",\"#B6E880\",\"#FF97FF\",\"#FECB52\"],\"font\":{\"color\":\"#2a3f5f\"},\"hovermode\":\"closest\",\"hoverlabel\":{\"align\":\"left\"},\"paper_bgcolor\":\"white\",\"plot_bgcolor\":\"#E5ECF6\",\"polar\":{\"bgcolor\":\"#E5ECF6\",\"angularaxis\":{\"gridcolor\":\"white\",\"linecolor\":\"white\",\"ticks\":\"\"},\"radialaxis\":{\"gridcolor\":\"white\",\"linecolor\":\"white\",\"ticks\":\"\"}},\"ternary\":{\"bgcolor\":\"#E5ECF6\",\"aaxis\":{\"gridcolor\":\"white\",\"linecolor\":\"white\",\"ticks\":\"\"},\"baxis\":{\"gridcolor\":\"white\",\"linecolor\":\"white\",\"ticks\":\"\"},\"caxis\":{\"gridcolor\":\"white\",\"linecolor\":\"white\",\"ticks\":\"\"}},\"coloraxis\":{\"colorbar\":{\"outlinewidth\":0,\"ticks\":\"\"}},\"colorscale\":{\"sequential\":[[0.0,\"#0d0887\"],[0.1111111111111111,\"#46039f\"],[0.2222222222222222,\"#7201a8\"],[0.3333333333333333,\"#9c179e\"],[0.4444444444444444,\"#bd3786\"],[0.5555555555555556,\"#d8576b\"],[0.6666666666666666,\"#ed7953\"],[0.7777777777777778,\"#fb9f3a\"],[0.8888888888888888,\"#fdca26\"],[1.0,\"#f0f921\"]],\"sequentialminus\":[[0.0,\"#0d0887\"],[0.1111111111111111,\"#46039f\"],[0.2222222222222222,\"#7201a8\"],[0.3333333333333333,\"#9c179e\"],[0.4444444444444444,\"#bd3786\"],[0.5555555555555556,\"#d8576b\"],[0.6666666666666666,\"#ed7953\"],[0.7777777777777778,\"#fb9f3a\"],[0.8888888888888888,\"#fdca26\"],[1.0,\"#f0f921\"]],\"diverging\":[[0,\"#8e0152\"],[0.1,\"#c51b7d\"],[0.2,\"#de77ae\"],[0.3,\"#f1b6da\"],[0.4,\"#fde0ef\"],[0.5,\"#f7f7f7\"],[0.6,\"#e6f5d0\"],[0.7,\"#b8e186\"],[0.8,\"#7fbc41\"],[0.9,\"#4d9221\"],[1,\"#276419\"]]},\"xaxis\":{\"gridcolor\":\"white\",\"linecolor\":\"white\",\"ticks\":\"\",\"title\":{\"standoff\":15},\"zerolinecolor\":\"white\",\"automargin\":true,\"zerolinewidth\":2},\"yaxis\":{\"gridcolor\":\"white\",\"linecolor\":\"white\",\"ticks\":\"\",\"title\":{\"standoff\":15},\"zerolinecolor\":\"white\",\"automargin\":true,\"zerolinewidth\":2},\"scene\":{\"xaxis\":{\"backgroundcolor\":\"#E5ECF6\",\"gridcolor\":\"white\",\"linecolor\":\"white\",\"showbackground\":true,\"ticks\":\"\",\"zerolinecolor\":\"white\",\"gridwidth\":2},\"yaxis\":{\"backgroundcolor\":\"#E5ECF6\",\"gridcolor\":\"white\",\"linecolor\":\"white\",\"showbackground\":true,\"ticks\":\"\",\"zerolinecolor\":\"white\",\"gridwidth\":2},\"zaxis\":{\"backgroundcolor\":\"#E5ECF6\",\"gridcolor\":\"white\",\"linecolor\":\"white\",\"showbackground\":true,\"ticks\":\"\",\"zerolinecolor\":\"white\",\"gridwidth\":2}},\"shapedefaults\":{\"line\":{\"color\":\"#2a3f5f\"}},\"annotationdefaults\":{\"arrowcolor\":\"#2a3f5f\",\"arrowhead\":0,\"arrowwidth\":1},\"geo\":{\"bgcolor\":\"white\",\"landcolor\":\"#E5ECF6\",\"subunitcolor\":\"white\",\"showland\":true,\"showlakes\":true,\"lakecolor\":\"white\"},\"title\":{\"x\":0.05},\"mapbox\":{\"style\":\"light\"}}},\"xaxis\":{\"anchor\":\"y\",\"domain\":[0.0,1.0],\"title\":{\"text\":\"Category\"},\"categoryorder\":\"array\",\"categoryarray\":[\"Data Science\",\"HR\",\"Advocate\",\"Arts\",\"Web Designing\",\"Mechanical Engineer\",\"Sales\",\"Health and fitness\",\"Civil Engineer\",\"Java Developer\",\"Business Analyst\",\"SAP Developer\",\"Automation Testing\",\"Electrical Engineering\",\"Operations Manager\",\"Python Developer\",\"DevOps Engineer\",\"Network Security Engineer\",\"PMO\",\"Database\",\"Hadoop\",\"ETL Developer\",\"DotNet Developer\",\"Blockchain\",\"Testing\"]},\"yaxis\":{\"anchor\":\"x\",\"domain\":[0.0,1.0],\"title\":{\"text\":\"count\"}},\"legend\":{\"title\":{\"text\":\"Category\"},\"tracegroupgap\":0},\"title\":{\"text\":\"Distribution of Jobs Categories\"},\"barmode\":\"relative\"},                        {\"responsive\": true}                    ).then(function(){\n",
              "                            \n",
              "var gd = document.getElementById('75be3e88-f5b1-4847-88db-256ec4829d33');\n",
              "var x = new MutationObserver(function (mutations, observer) {{\n",
              "        var display = window.getComputedStyle(gd).display;\n",
              "        if (!display || display === 'none') {{\n",
              "            console.log([gd, 'removed!']);\n",
              "            Plotly.purge(gd);\n",
              "            observer.disconnect();\n",
              "        }}\n",
              "}});\n",
              "\n",
              "// Listen for the removal of the full notebook cells\n",
              "var notebookContainer = gd.closest('#notebook-container');\n",
              "if (notebookContainer) {{\n",
              "    x.observe(notebookContainer, {childList: true});\n",
              "}}\n",
              "\n",
              "// Listen for the clearing of the current output cell\n",
              "var outputEl = gd.closest('.output');\n",
              "if (outputEl) {{\n",
              "    x.observe(outputEl, {childList: true});\n",
              "}}\n",
              "\n",
              "                        })                };                            </script>        </div>\n",
              "</body>\n",
              "</html>"
            ]
          },
          "metadata": {}
        }
      ]
    },
    {
      "cell_type": "code",
      "source": [
        "def cleanResume(resumeText):\n",
        "    resumeText = re.sub('httpS+s*', ' ', resumeText)  # remove URLs\n",
        "    resumeText = re.sub('RT|cc', ' ', resumeText)  # remove RT and cc\n",
        "    resumeText = re.sub('#S+', '', resumeText)  # remove hashtags\n",
        "    resumeText = re.sub('@S+', '  ', resumeText)  # remove mentions\n",
        "    resumeText = re.sub('[%s]' % re.escape(\"\"\"!\"#$%&'()*+,-./:;<=>?@[]^_`{|}~\"\"\"), ' ', resumeText)  # remove punctuations\n",
        "    resumeText = re.sub(r'[^x00-x7f]',r' ', resumeText) \n",
        "    resumeText = re.sub('s+', ' ', resumeText)  # remove extra whitespace\n",
        "    return resumeText\n",
        "resumeDataSet['cleaned_resume'] = resumeDataSet.Resume.apply(lambda x: cleanResume(x))"
      ],
      "metadata": {
        "id": "2rxG9rCTAzP0"
      },
      "execution_count": 9,
      "outputs": []
    },
    {
      "cell_type": "code",
      "source": [
        "resumeDataSet"
      ],
      "metadata": {
        "colab": {
          "base_uri": "https://localhost:8080/",
          "height": 423
        },
        "id": "Z1ILD5-lA6Ol",
        "outputId": "96be6f3a-af93-4079-eb14-2306c3749534"
      },
      "execution_count": 10,
      "outputs": [
        {
          "output_type": "execute_result",
          "data": {
            "text/plain": [
              "         Category                                             Resume  \\\n",
              "0    Data Science  Skills * Programming Languages: Python (pandas...   \n",
              "1    Data Science  Education Details \\r\\nMay 2013 to May 2017 B.E...   \n",
              "2    Data Science  Areas of Interest Deep Learning, Control Syste...   \n",
              "3    Data Science  Skills â¢ R â¢ Python â¢ SAP HANA â¢ Table...   \n",
              "4    Data Science  Education Details \\r\\n MCA   YMCAUST,  Faridab...   \n",
              "..            ...                                                ...   \n",
              "957       Testing  Computer Skills: â¢ Proficient in MS office (...   \n",
              "958       Testing  â Willingness to accept the challenges. â ...   \n",
              "959       Testing  PERSONAL SKILLS â¢ Quick learner, â¢ Eagerne...   \n",
              "960       Testing  COMPUTER SKILLS & SOFTWARE KNOWLEDGE MS-Power ...   \n",
              "961       Testing  Skill Set OS Windows XP/7/8/8.1/10 Database MY...   \n",
              "\n",
              "                                        cleaned_resume  \n",
              "0    Skill    Programming Language   P thon  panda ...  \n",
              "1    Education Detail    Ma  2013 to Ma  2017 B E  ...  \n",
              "2    Area  of Intere t Deep Learning  Control S  te...  \n",
              "3    Skill      R     P thon     SAP HANA     Table...  \n",
              "4    Education Detail     MCA   YMCAUST   Faridabad...  \n",
              "..                                                 ...  \n",
              "957  Computer Skill       Proficient in MS office  ...  \n",
              "958      Willingne  to a ept the challenge       Po...  \n",
              "959  PERSONAL SKILLS     Quick learner      Eagerne...  \n",
              "960  COMPUTER SKILLS   SOFTWARE KNOWLEDGE MS Power ...  \n",
              "961  Skill Set OS Window  XP 7 8 8 1 10 Databa e MY...  \n",
              "\n",
              "[962 rows x 3 columns]"
            ],
            "text/html": [
              "\n",
              "  <div id=\"df-327f50a7-7d84-4a80-8525-6a3cf7866911\">\n",
              "    <div class=\"colab-df-container\">\n",
              "      <div>\n",
              "<style scoped>\n",
              "    .dataframe tbody tr th:only-of-type {\n",
              "        vertical-align: middle;\n",
              "    }\n",
              "\n",
              "    .dataframe tbody tr th {\n",
              "        vertical-align: top;\n",
              "    }\n",
              "\n",
              "    .dataframe thead th {\n",
              "        text-align: right;\n",
              "    }\n",
              "</style>\n",
              "<table border=\"1\" class=\"dataframe\">\n",
              "  <thead>\n",
              "    <tr style=\"text-align: right;\">\n",
              "      <th></th>\n",
              "      <th>Category</th>\n",
              "      <th>Resume</th>\n",
              "      <th>cleaned_resume</th>\n",
              "    </tr>\n",
              "  </thead>\n",
              "  <tbody>\n",
              "    <tr>\n",
              "      <th>0</th>\n",
              "      <td>Data Science</td>\n",
              "      <td>Skills * Programming Languages: Python (pandas...</td>\n",
              "      <td>Skill    Programming Language   P thon  panda ...</td>\n",
              "    </tr>\n",
              "    <tr>\n",
              "      <th>1</th>\n",
              "      <td>Data Science</td>\n",
              "      <td>Education Details \\r\\nMay 2013 to May 2017 B.E...</td>\n",
              "      <td>Education Detail    Ma  2013 to Ma  2017 B E  ...</td>\n",
              "    </tr>\n",
              "    <tr>\n",
              "      <th>2</th>\n",
              "      <td>Data Science</td>\n",
              "      <td>Areas of Interest Deep Learning, Control Syste...</td>\n",
              "      <td>Area  of Intere t Deep Learning  Control S  te...</td>\n",
              "    </tr>\n",
              "    <tr>\n",
              "      <th>3</th>\n",
              "      <td>Data Science</td>\n",
              "      <td>Skills â¢ R â¢ Python â¢ SAP HANA â¢ Table...</td>\n",
              "      <td>Skill      R     P thon     SAP HANA     Table...</td>\n",
              "    </tr>\n",
              "    <tr>\n",
              "      <th>4</th>\n",
              "      <td>Data Science</td>\n",
              "      <td>Education Details \\r\\n MCA   YMCAUST,  Faridab...</td>\n",
              "      <td>Education Detail     MCA   YMCAUST   Faridabad...</td>\n",
              "    </tr>\n",
              "    <tr>\n",
              "      <th>...</th>\n",
              "      <td>...</td>\n",
              "      <td>...</td>\n",
              "      <td>...</td>\n",
              "    </tr>\n",
              "    <tr>\n",
              "      <th>957</th>\n",
              "      <td>Testing</td>\n",
              "      <td>Computer Skills: â¢ Proficient in MS office (...</td>\n",
              "      <td>Computer Skill       Proficient in MS office  ...</td>\n",
              "    </tr>\n",
              "    <tr>\n",
              "      <th>958</th>\n",
              "      <td>Testing</td>\n",
              "      <td>â Willingness to accept the challenges. â ...</td>\n",
              "      <td>Willingne  to a ept the challenge       Po...</td>\n",
              "    </tr>\n",
              "    <tr>\n",
              "      <th>959</th>\n",
              "      <td>Testing</td>\n",
              "      <td>PERSONAL SKILLS â¢ Quick learner, â¢ Eagerne...</td>\n",
              "      <td>PERSONAL SKILLS     Quick learner      Eagerne...</td>\n",
              "    </tr>\n",
              "    <tr>\n",
              "      <th>960</th>\n",
              "      <td>Testing</td>\n",
              "      <td>COMPUTER SKILLS &amp; SOFTWARE KNOWLEDGE MS-Power ...</td>\n",
              "      <td>COMPUTER SKILLS   SOFTWARE KNOWLEDGE MS Power ...</td>\n",
              "    </tr>\n",
              "    <tr>\n",
              "      <th>961</th>\n",
              "      <td>Testing</td>\n",
              "      <td>Skill Set OS Windows XP/7/8/8.1/10 Database MY...</td>\n",
              "      <td>Skill Set OS Window  XP 7 8 8 1 10 Databa e MY...</td>\n",
              "    </tr>\n",
              "  </tbody>\n",
              "</table>\n",
              "<p>962 rows × 3 columns</p>\n",
              "</div>\n",
              "      <button class=\"colab-df-convert\" onclick=\"convertToInteractive('df-327f50a7-7d84-4a80-8525-6a3cf7866911')\"\n",
              "              title=\"Convert this dataframe to an interactive table.\"\n",
              "              style=\"display:none;\">\n",
              "        \n",
              "  <svg xmlns=\"http://www.w3.org/2000/svg\" height=\"24px\"viewBox=\"0 0 24 24\"\n",
              "       width=\"24px\">\n",
              "    <path d=\"M0 0h24v24H0V0z\" fill=\"none\"/>\n",
              "    <path d=\"M18.56 5.44l.94 2.06.94-2.06 2.06-.94-2.06-.94-.94-2.06-.94 2.06-2.06.94zm-11 1L8.5 8.5l.94-2.06 2.06-.94-2.06-.94L8.5 2.5l-.94 2.06-2.06.94zm10 10l.94 2.06.94-2.06 2.06-.94-2.06-.94-.94-2.06-.94 2.06-2.06.94z\"/><path d=\"M17.41 7.96l-1.37-1.37c-.4-.4-.92-.59-1.43-.59-.52 0-1.04.2-1.43.59L10.3 9.45l-7.72 7.72c-.78.78-.78 2.05 0 2.83L4 21.41c.39.39.9.59 1.41.59.51 0 1.02-.2 1.41-.59l7.78-7.78 2.81-2.81c.8-.78.8-2.07 0-2.86zM5.41 20L4 18.59l7.72-7.72 1.47 1.35L5.41 20z\"/>\n",
              "  </svg>\n",
              "      </button>\n",
              "      \n",
              "  <style>\n",
              "    .colab-df-container {\n",
              "      display:flex;\n",
              "      flex-wrap:wrap;\n",
              "      gap: 12px;\n",
              "    }\n",
              "\n",
              "    .colab-df-convert {\n",
              "      background-color: #E8F0FE;\n",
              "      border: none;\n",
              "      border-radius: 50%;\n",
              "      cursor: pointer;\n",
              "      display: none;\n",
              "      fill: #1967D2;\n",
              "      height: 32px;\n",
              "      padding: 0 0 0 0;\n",
              "      width: 32px;\n",
              "    }\n",
              "\n",
              "    .colab-df-convert:hover {\n",
              "      background-color: #E2EBFA;\n",
              "      box-shadow: 0px 1px 2px rgba(60, 64, 67, 0.3), 0px 1px 3px 1px rgba(60, 64, 67, 0.15);\n",
              "      fill: #174EA6;\n",
              "    }\n",
              "\n",
              "    [theme=dark] .colab-df-convert {\n",
              "      background-color: #3B4455;\n",
              "      fill: #D2E3FC;\n",
              "    }\n",
              "\n",
              "    [theme=dark] .colab-df-convert:hover {\n",
              "      background-color: #434B5C;\n",
              "      box-shadow: 0px 1px 3px 1px rgba(0, 0, 0, 0.15);\n",
              "      filter: drop-shadow(0px 1px 2px rgba(0, 0, 0, 0.3));\n",
              "      fill: #FFFFFF;\n",
              "    }\n",
              "  </style>\n",
              "\n",
              "      <script>\n",
              "        const buttonEl =\n",
              "          document.querySelector('#df-327f50a7-7d84-4a80-8525-6a3cf7866911 button.colab-df-convert');\n",
              "        buttonEl.style.display =\n",
              "          google.colab.kernel.accessAllowed ? 'block' : 'none';\n",
              "\n",
              "        async function convertToInteractive(key) {\n",
              "          const element = document.querySelector('#df-327f50a7-7d84-4a80-8525-6a3cf7866911');\n",
              "          const dataTable =\n",
              "            await google.colab.kernel.invokeFunction('convertToInteractive',\n",
              "                                                     [key], {});\n",
              "          if (!dataTable) return;\n",
              "\n",
              "          const docLinkHtml = 'Like what you see? Visit the ' +\n",
              "            '<a target=\"_blank\" href=https://colab.research.google.com/notebooks/data_table.ipynb>data table notebook</a>'\n",
              "            + ' to learn more about interactive tables.';\n",
              "          element.innerHTML = '';\n",
              "          dataTable['output_type'] = 'display_data';\n",
              "          await google.colab.output.renderOutput(dataTable, element);\n",
              "          const docLink = document.createElement('div');\n",
              "          docLink.innerHTML = docLinkHtml;\n",
              "          element.appendChild(docLink);\n",
              "        }\n",
              "      </script>\n",
              "    </div>\n",
              "  </div>\n",
              "  "
            ]
          },
          "metadata": {},
          "execution_count": 10
        }
      ]
    },
    {
      "cell_type": "code",
      "source": [
        "var_mod = ['Category']\n",
        "le = LabelEncoder()\n",
        "for i in var_mod:\n",
        "    resumeDataSet[i] = le.fit_transform(resumeDataSet[i])"
      ],
      "metadata": {
        "id": "NRqPTarUA-el"
      },
      "execution_count": 11,
      "outputs": []
    },
    {
      "cell_type": "code",
      "source": [
        "requiredText = resumeDataSet['cleaned_resume'].values\n",
        "requiredTarget = resumeDataSet['Category'].values\n",
        "word_vectorizer = TfidfVectorizer(sublinear_tf=True, stop_words='english', max_features=1500)\n",
        "word_vectorizer.fit(requiredText)\n",
        "WordFeatures = word_vectorizer.transform(requiredText)"
      ],
      "metadata": {
        "id": "Vw_qjbCsBEH9"
      },
      "execution_count": 12,
      "outputs": []
    },
    {
      "cell_type": "code",
      "source": [
        "# test train split\n",
        "X_train,X_test,y_train,y_test = train_test_split(WordFeatures,requiredTarget,random_state=0, test_size=0.2)"
      ],
      "metadata": {
        "id": "7VFjCdunBGrF"
      },
      "execution_count": 13,
      "outputs": []
    },
    {
      "cell_type": "code",
      "source": [
        "values = [X_train.shape[0],X_test.shape[0],y_train.shape[0],y_test.shape[0]]\n",
        "v = [1,2,3,4]\n",
        "name = ['X_train','X_test','y_train','y_test']\n",
        "fig = plt.figure(figsize = (10, 5))\n",
        "plt.bar(name,values, color ='lightgreen',width = 0.4)\n",
        "plt.xlabel(\"Train Test Split\")\n",
        "plt.ylabel(\"Count\")\n",
        "plt.title(\"Spliting Dataset into Train and Test Data\")\n",
        "plt.show()"
      ],
      "metadata": {
        "colab": {
          "base_uri": "https://localhost:8080/",
          "height": 487
        },
        "id": "i67MxBo2zzGp",
        "outputId": "8ad3d414-f1c7-492c-a5d9-18b3d8b40ce0"
      },
      "execution_count": 14,
      "outputs": [
        {
          "output_type": "display_data",
          "data": {
            "text/plain": [
              "<Figure size 1000x500 with 1 Axes>"
            ],
            "image/png": "[encoded data removed]"
          },
          "metadata": {}
        }
      ]
    },
    {
      "cell_type": "markdown",
      "source": [
        "# **Linear Regresion**"
      ],
      "metadata": {
        "id": "ahzdO8tB8HKw"
      }
    },
    {
      "cell_type": "code",
      "source": [
        "\n",
        "from sklearn.linear_model import LinearRegression\n",
        "model = LinearRegression()\n",
        "# fit the model to the data\n",
        "model.fit(X_train, y_train)"
      ],
      "metadata": {
        "colab": {
          "base_uri": "https://localhost:8080/",
          "height": 74
        },
        "id": "usCerDI-BGvA",
        "outputId": "4d0f4c37-d217-461e-afe8-86a9b0ee7199"
      },
      "execution_count": 15,
      "outputs": [
        {
          "output_type": "execute_result",
          "data": {
            "text/plain": [
              "LinearRegression()"
            ],
            "text/html": [
              "<style>#sk-container-id-1 {color: black;background-color: white;}#sk-container-id-1 pre{padding: 0;}#sk-container-id-1 div.sk-toggleable {background-color: white;}#sk-container-id-1 label.sk-toggleable__label {cursor: pointer;display: block;width: 100%;margin-bottom: 0;padding: 0.3em;box-sizing: border-box;text-align: center;}#sk-container-id-1 label.sk-toggleable__label-arrow:before {content: \"▸\";float: left;margin-right: 0.25em;color: #696969;}#sk-container-id-1 label.sk-toggleable__label-arrow:hover:before {color: black;}#sk-container-id-1 div.sk-estimator:hover label.sk-toggleable__label-arrow:before {color: black;}#sk-container-id-1 div.sk-toggleable__content {max-height: 0;max-width: 0;overflow: hidden;text-align: left;background-color: #f0f8ff;}#sk-container-id-1 div.sk-toggleable__content pre {margin: 0.2em;color: black;border-radius: 0.25em;background-color: #f0f8ff;}#sk-container-id-1 input.sk-toggleable__control:checked~div.sk-toggleable__content {max-height: 200px;max-width: 100%;overflow: auto;}#sk-container-id-1 input.sk-toggleable__control:checked~label.sk-toggleable__label-arrow:before {content: \"▾\";}#sk-container-id-1 div.sk-estimator input.sk-toggleable__control:checked~label.sk-toggleable__label {background-color: #d4ebff;}#sk-container-id-1 div.sk-label input.sk-toggleable__control:checked~label.sk-toggleable__label {background-color: #d4ebff;}#sk-container-id-1 input.sk-hidden--visually {border: 0;clip: rect(1px 1px 1px 1px);clip: rect(1px, 1px, 1px, 1px);height: 1px;margin: -1px;overflow: hidden;padding: 0;position: absolute;width: 1px;}#sk-container-id-1 div.sk-estimator {font-family: monospace;background-color: #f0f8ff;border: 1px dotted black;border-radius: 0.25em;box-sizing: border-box;margin-bottom: 0.5em;}#sk-container-id-1 div.sk-estimator:hover {background-color: #d4ebff;}#sk-container-id-1 div.sk-parallel-item::after {content: \"\";width: 100%;border-bottom: 1px solid gray;flex-grow: 1;}#sk-container-id-1 div.sk-label:hover label.sk-toggleable__label {background-color: #d4ebff;}#sk-container-id-1 div.sk-serial::before {content: \"\";position: absolute;border-left: 1px solid gray;box-sizing: border-box;top: 0;bottom: 0;left: 50%;z-index: 0;}#sk-container-id-1 div.sk-serial {display: flex;flex-direction: column;align-items: center;background-color: white;padding-right: 0.2em;padding-left: 0.2em;position: relative;}#sk-container-id-1 div.sk-item {position: relative;z-index: 1;}#sk-container-id-1 div.sk-parallel {display: flex;align-items: stretch;justify-content: center;background-color: white;position: relative;}#sk-container-id-1 div.sk-item::before, #sk-container-id-1 div.sk-parallel-item::before {content: \"\";position: absolute;border-left: 1px solid gray;box-sizing: border-box;top: 0;bottom: 0;left: 50%;z-index: -1;}#sk-container-id-1 div.sk-parallel-item {display: flex;flex-direction: column;z-index: 1;position: relative;background-color: white;}#sk-container-id-1 div.sk-parallel-item:first-child::after {align-self: flex-end;width: 50%;}#sk-container-id-1 div.sk-parallel-item:last-child::after {align-self: flex-start;width: 50%;}#sk-container-id-1 div.sk-parallel-item:only-child::after {width: 0;}#sk-container-id-1 div.sk-dashed-wrapped {border: 1px dashed gray;margin: 0 0.4em 0.5em 0.4em;box-sizing: border-box;padding-bottom: 0.4em;background-color: white;}#sk-container-id-1 div.sk-label label {font-family: monospace;font-weight: bold;display: inline-block;line-height: 1.2em;}#sk-container-id-1 div.sk-label-container {text-align: center;}#sk-container-id-1 div.sk-container {/* jupyter's `normalize.less` sets `[hidden] { display: none; }` but bootstrap.min.css set `[hidden] { display: none !important; }` so we also need the `!important` here to be able to override the default hidden behavior on the sphinx rendered scikit-learn.org. See: https://github.com/scikit-learn/scikit-learn/issues/21755 */display: inline-block !important;position: relative;}#sk-container-id-1 div.sk-text-repr-fallback {display: none;}</style><div id=\"sk-container-id-1\" class=\"sk-top-container\"><div class=\"sk-text-repr-fallback\"><pre>LinearRegression()</pre><b>In a Jupyter environment, please rerun this cell to show the HTML representation or trust the notebook. <br />On GitHub, the HTML representation is unable to render, please try loading this page with nbviewer.org.</b></div><div class=\"sk-container\" hidden><div class=\"sk-item\"><div class=\"sk-estimator sk-toggleable\"><input class=\"sk-toggleable__control sk-hidden--visually\" id=\"sk-estimator-id-1\" type=\"checkbox\" checked><label for=\"sk-estimator-id-1\" class=\"sk-toggleable__label sk-toggleable__label-arrow\">LinearRegression</label><div class=\"sk-toggleable__content\"><pre>LinearRegression()</pre></div></div></div></div></div>"
            ]
          },
          "metadata": {},
          "execution_count": 15
        }
      ]
    },
    {
      "cell_type": "code",
      "source": [
        "pred = model.predict(X_test)\n",
        "flat_array = pred.flatten()"
      ],
      "metadata": {
        "id": "BuzcE5jhBGxe"
      },
      "execution_count": 16,
      "outputs": []
    },
    {
      "cell_type": "code",
      "source": [
        "print(model.score(X_train, y_train))\n",
        "acc = model.score(X_test, y_test)\n",
        "print(\"accuracy is: \",acc)"
      ],
      "metadata": {
        "colab": {
          "base_uri": "https://localhost:8080/"
        },
        "id": "bu7X0h7BBOcN",
        "outputId": "729373f3-b965-4f32-cf0f-d9489060c673"
      },
      "execution_count": 17,
      "outputs": [
        {
          "output_type": "stream",
          "name": "stdout",
          "text": [
            "0.9999999999453002\n",
            "accuracy is:  0.9957733759261626\n"
          ]
        }
      ]
    },
    {
      "cell_type": "markdown",
      "source": [
        "# **Decision Tree**"
      ],
      "metadata": {
        "id": "5xUDjpTzzagW"
      }
    },
    {
      "cell_type": "code",
      "source": [
        "from sklearn import tree\n",
        "from sklearn.metrics import accuracy_score\n",
        "dtc = tree.DecisionTreeClassifier()\n",
        "dtc = dtc.fit(X_train, y_train)\n",
        "y_pred = dtc.predict(X_test)\n",
        "acc2 = accuracy_score(y_test, y_pred)\n",
        "print(\"accuracy is: \",acc2)"
      ],
      "metadata": {
        "id": "G_wk7KG4wWbl",
        "colab": {
          "base_uri": "https://localhost:8080/"
        },
        "outputId": "c8d8ac02-7ba6-4725-fbfe-95fe650f5b51"
      },
      "execution_count": 18,
      "outputs": [
        {
          "output_type": "stream",
          "name": "stdout",
          "text": [
            "accuracy is:  1.0\n"
          ]
        }
      ]
    },
    {
      "cell_type": "markdown",
      "source": [
        "# **KNN**"
      ],
      "metadata": {
        "id": "Z6b_Fm9LzS0c"
      }
    },
    {
      "cell_type": "code",
      "source": [
        "from sklearn.neighbors import KNeighborsClassifier\n",
        "knc = KNeighborsClassifier(n_neighbors=7)\n",
        "knc = knc.fit(X_train, y_train)\n",
        "y_pred = knc.predict(X_test)\n",
        "acc3 = accuracy_score(y_test, y_pred)\n",
        "print(\"accuracy is: \",acc3)"
      ],
      "metadata": {
        "id": "4ABk7J2tyPE-",
        "outputId": "a66626a5-705a-45e7-a0f2-608c9d55fadd",
        "colab": {
          "base_uri": "https://localhost:8080/"
        }
      },
      "execution_count": 19,
      "outputs": [
        {
          "output_type": "stream",
          "name": "stdout",
          "text": [
            "accuracy is:  0.9740932642487047\n"
          ]
        }
      ]
    },
    {
      "cell_type": "markdown",
      "source": [
        "# **Comparing Models**\n",
        "\n",
        "**Accuracy**\n",
        "\n",
        "linear regresion : 99.5%\n",
        "\n",
        "Decision Tree : 100%\n",
        "\n",
        "KNN : 97.4% "
      ],
      "metadata": {
        "id": "Z5QrQBqB--uZ"
      }
    },
    {
      "cell_type": "code",
      "source": [
        "accuracy = [acc,acc2,acc3]\n",
        "models = ['Linear Regresion','Decision Tree','KNN']\n",
        "fig = plt.figure(figsize = (10, 5))\n",
        "plt.bar(models,accuracy, color ='maroon',width = 0.4)\n",
        "plt.xlabel(\"Models\")\n",
        "plt.ylabel(\"Accuracy\")\n",
        "plt.title(\"Comparison between Different Models\")\n",
        "plt.show()"
      ],
      "metadata": {
        "colab": {
          "base_uri": "https://localhost:8080/",
          "height": 487
        },
        "id": "ScWSSwSF5Msa",
        "outputId": "56752dc8-1f8a-4693-eaa3-a3ddbb35a43d"
      },
      "execution_count": 20,
      "outputs": [
        {
          "output_type": "display_data",
          "data": {
            "text/plain": [
              "<Figure size 1000x500 with 1 Axes>"
            ],
            "image/png": "[encoded data removed]"
          },
          "metadata": {}
        }
      ]
    },
    {
      "cell_type": "code",
      "source": [],
      "metadata": {
        "id": "yw0wPNF351tt"
      },
      "execution_count": null,
      "outputs": []
    }
  ]
}