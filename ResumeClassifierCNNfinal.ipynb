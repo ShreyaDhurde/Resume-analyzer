{
  "cells": [
    {
      "cell_type": "code",
      "execution_count": 1,
      "metadata": {
        "id": "hcbz4TBLuf4J"
      },
      "outputs": [],
      "source": [
        "import numpy as np\n",
        "import pandas as pd\n",
        "import matplotlib.pyplot as plt\n",
        "%matplotlib inline\n",
        "import seaborn as sns\n",
        "import re\n",
        "from nltk.corpus import stopwords\n",
        "from sklearn.feature_extraction.text import TfidfVectorizer,CountVectorizer\n",
        "from sklearn.preprocessing import LabelEncoder"
      ]
    },
    {
      "cell_type": "code",
      "execution_count": 2,
      "metadata": {
        "id": "H6Bd8887QND2"
      },
      "outputs": [],
      "source": [
        "import nltk"
      ]
    },
    {
      "cell_type": "code",
      "execution_count": 3,
      "metadata": {
        "id": "Hjrc_AdOxvXX"
      },
      "outputs": [],
      "source": [
        "data = pd.read_csv('/content/UpdatedResumeDataSet.csv')"
      ]
    },
    {
      "cell_type": "code",
      "execution_count": 4,
      "metadata": {
        "colab": {
          "base_uri": "https://localhost:8080/"
        },
        "id": "z_hKIv7uPsuB",
        "outputId": "2aab28dc-c3ac-43bb-8856-ae0d0d483078"
      },
      "outputs": [
        {
          "output_type": "stream",
          "name": "stderr",
          "text": [
            "[nltk_data] Downloading package punkt to /root/nltk_data...\n",
            "[nltk_data]   Unzipping tokenizers/punkt.zip.\n",
            "[nltk_data] Downloading package wordnet to /root/nltk_data...\n",
            "[nltk_data] Downloading package stopwords to /root/nltk_data...\n",
            "[nltk_data]   Unzipping corpora/stopwords.zip.\n"
          ]
        },
        {
          "output_type": "execute_result",
          "data": {
            "text/plain": [
              "True"
            ]
          },
          "metadata": {},
          "execution_count": 4
        }
      ],
      "source": [
        "nltk.download('punkt')\n",
        "nltk.download('wordnet')\n",
        "nltk.download('stopwords')"
      ]
    },
    {
      "cell_type": "code",
      "execution_count": 5,
      "metadata": {
        "id": "OdBVirsjPt9e"
      },
      "outputs": [],
      "source": [
        "import re\n",
        "from nltk.corpus import stopwords,wordnet\n",
        "from nltk.stem.porter import PorterStemmer\n",
        "from nltk.stem import WordNetLemmatizer\n",
        "\n",
        "stemmer = nltk.stem.porter.PorterStemmer()\n",
        "def cleanResume(resumeText):\n",
        "    resumeText = re.sub('httpS+s*', ' ', resumeText)  # remove URLs\n",
        "    resumeText = re.sub('RT|cc', ' ', resumeText)  # remove RT and cc\n",
        "    resumeText = re.sub('#S+', '', resumeText)  # remove hashtags\n",
        "    resumeText = re.sub('@S+', '  ', resumeText)  # remove mentions\n",
        "    resumeText = re.sub('[%s]' % re.escape(\"\"\"!\"#$%&'()*+,-./:;<=>?@[]^_`{|}~\"\"\"), ' ', resumeText)  # remove punctuations\n",
        "    resumeText = re.sub(r'[^x00-x7f]',r' ', resumeText) \n",
        "    resumeText = re.sub('s+', ' ', resumeText)  # remove extra whitespace\n",
        "    return resumeText\n",
        "\n",
        "data['Resume'] = data['Resume'].apply(lambda w: cleanResume(w))"
      ]
    },
    {
      "cell_type": "code",
      "execution_count": 6,
      "metadata": {
        "id": "yeXEoiDcSbjd"
      },
      "outputs": [],
      "source": [
        "X = np.array(data['Resume'][:])"
      ]
    },
    {
      "cell_type": "code",
      "execution_count": 7,
      "metadata": {
        "colab": {
          "base_uri": "https://localhost:8080/"
        },
        "id": "okeK1eyyTNo-",
        "outputId": "ceb3743c-c2cf-4414-af43-6df4daa3e69b"
      },
      "outputs": [
        {
          "output_type": "execute_result",
          "data": {
            "text/plain": [
              "array(['Data Science', 'Data Science', 'Data Science', 'Data Science',\n",
              "       'Data Science'], dtype=object)"
            ]
          },
          "metadata": {},
          "execution_count": 7
        }
      ],
      "source": [
        "Y = data['Category']\n",
        "Y = np.array(Y)\n",
        "Y[:5]"
      ]
    },
    {
      "cell_type": "code",
      "execution_count": 8,
      "metadata": {
        "id": "Y6y5KmvfT0Yj"
      },
      "outputs": [],
      "source": [
        "le = LabelEncoder()\n",
        "Y = le.fit_transform(Y)"
      ]
    },
    {
      "cell_type": "code",
      "execution_count": 9,
      "metadata": {
        "id": "deAh6VjUdQU0"
      },
      "outputs": [],
      "source": [
        "cv = CountVectorizer()\n",
        "X = cv.fit_transform(data['Resume']).toarray()"
      ]
    },
    {
      "cell_type": "code",
      "execution_count": 10,
      "metadata": {
        "id": "JGpj9IcgUMt9"
      },
      "outputs": [],
      "source": [
        "import tensorflow as tf\n",
        "from sklearn.model_selection import train_test_split\n",
        "X_train, X_test, y_train, y_test = train_test_split(X, Y, test_size = 0.2, random_state = 42)"
      ]
    },
    {
      "cell_type": "code",
      "execution_count": 11,
      "metadata": {
        "id": "czKsb2dpvZKl"
      },
      "outputs": [],
      "source": [
        "import tensorflow as tf\n",
        "from tensorflow import keras\n",
        "from keras.models import Sequential\n",
        "from keras.layers import Dense,Embedding,Dropout\n",
        "from keras.layers import Conv1D,MaxPool1D,GlobalMaxPooling1D,GlobalAveragePooling1D"
      ]
    },
    {
      "cell_type": "code",
      "execution_count": 12,
      "metadata": {
        "id": "ZCY9wtuQxESZ"
      },
      "outputs": [],
      "source": [
        "from keras.utils.np_utils import to_categorical\n",
        "y_train=to_categorical(y_train, num_classes = 25, dtype='float32')\n",
        "y_test=to_categorical(y_test, num_classes = 25, dtype='float32')"
      ]
    },
    {
      "cell_type": "code",
      "execution_count": 13,
      "metadata": {
        "id": "zYs26pe4s15M"
      },
      "outputs": [],
      "source": [
        "voc_size = 10000"
      ]
    },
    {
      "cell_type": "code",
      "execution_count": 14,
      "metadata": {
        "id": "RJeG-ZjBwXK2"
      },
      "outputs": [],
      "source": [
        "model = Sequential()\n",
        "model.add(Embedding(voc_size,1000, input_length=X_train.shape[1]))\n",
        "model.add(Conv1D(128, 3, activation='relu'))\n",
        "model.add(MaxPool1D(3))\n",
        "model.add(Dropout(0.2))\n",
        "model.add(Conv1D(128, 3, activation='relu'))\n",
        "model.add(GlobalMaxPooling1D())\n",
        "model.add(Dropout(0.2))\n",
        "model.add(Dense(128, activation='relu'))\n",
        "model.add(Dropout(0.2))\n",
        "model.add(Dense(64, activation='relu'))\n",
        "model.add(Dropout(0.2))\n",
        "model.add(Dense(32, activation='relu'))\n",
        "model.add(Dropout(0.2))\n",
        "model.add(Dense(25, activation='softmax'))\n",
        "model.compile(loss='categorical_crossentropy', optimizer=\"adam\", metrics=['accuracy'])"
      ]
    },
    {
      "cell_type": "code",
      "execution_count": 15,
      "metadata": {
        "id": "j0AWnROztcJb"
      },
      "outputs": [],
      "source": [
        "X_train = np.array([np.array(val) for val in X_train])"
      ]
    },
    {
      "cell_type": "code",
      "execution_count": 16,
      "metadata": {
        "id": "qU3lr0t7i0Ge"
      },
      "outputs": [],
      "source": [
        "callback = tf.keras.callbacks.EarlyStopping(monitor='loss', patience=20)"
      ]
    },
    {
      "cell_type": "code",
      "execution_count": 17,
      "metadata": {
        "colab": {
          "base_uri": "https://localhost:8080/"
        },
        "id": "yILGoBYUwhtb",
        "outputId": "7dde927f-1bf2-4329-ee57-93dcf9dd3dc7"
      },
      "outputs": [
        {
          "output_type": "stream",
          "name": "stdout",
          "text": [
            "Epoch 1/150\n",
            "13/13 [==============================] - 29s 734ms/step - loss: 3.2232 - accuracy: 0.0299 - val_loss: 3.2197 - val_accuracy: 0.0829\n",
            "Epoch 2/150\n",
            "13/13 [==============================] - 6s 462ms/step - loss: 3.2172 - accuracy: 0.0611 - val_loss: 3.2139 - val_accuracy: 0.0829\n",
            "Epoch 3/150\n",
            "13/13 [==============================] - 5s 406ms/step - loss: 3.2077 - accuracy: 0.0715 - val_loss: 3.2100 - val_accuracy: 0.0829\n",
            "Epoch 4/150\n",
            "13/13 [==============================] - 5s 399ms/step - loss: 3.1983 - accuracy: 0.0663 - val_loss: 3.2076 - val_accuracy: 0.0777\n",
            "Epoch 5/150\n",
            "13/13 [==============================] - 6s 458ms/step - loss: 3.1960 - accuracy: 0.0715 - val_loss: 3.2020 - val_accuracy: 0.0777\n",
            "Epoch 6/150\n",
            "13/13 [==============================] - 5s 426ms/step - loss: 3.1917 - accuracy: 0.0806 - val_loss: 3.2018 - val_accuracy: 0.0829\n",
            "Epoch 7/150\n",
            "13/13 [==============================] - 5s 389ms/step - loss: 3.1808 - accuracy: 0.0845 - val_loss: 3.1922 - val_accuracy: 0.0777\n",
            "Epoch 8/150\n",
            "13/13 [==============================] - 5s 388ms/step - loss: 3.1948 - accuracy: 0.0793 - val_loss: 3.1932 - val_accuracy: 0.0777\n",
            "Epoch 9/150\n",
            "13/13 [==============================] - 5s 422ms/step - loss: 3.1867 - accuracy: 0.0715 - val_loss: 3.1880 - val_accuracy: 0.0777\n",
            "Epoch 10/150\n",
            "13/13 [==============================] - 5s 411ms/step - loss: 3.1876 - accuracy: 0.0611 - val_loss: 3.1736 - val_accuracy: 0.0777\n",
            "Epoch 11/150\n",
            "13/13 [==============================] - 5s 401ms/step - loss: 3.1802 - accuracy: 0.0897 - val_loss: 3.1439 - val_accuracy: 0.1088\n",
            "Epoch 12/150\n",
            "13/13 [==============================] - 5s 406ms/step - loss: 3.1674 - accuracy: 0.0871 - val_loss: 3.1122 - val_accuracy: 0.1399\n",
            "Epoch 13/150\n",
            "13/13 [==============================] - 5s 408ms/step - loss: 3.1177 - accuracy: 0.1196 - val_loss: 3.0089 - val_accuracy: 0.1606\n",
            "Epoch 14/150\n",
            "13/13 [==============================] - 5s 421ms/step - loss: 3.0675 - accuracy: 0.1157 - val_loss: 2.9469 - val_accuracy: 0.1606\n",
            "Epoch 15/150\n",
            "13/13 [==============================] - 5s 380ms/step - loss: 3.0272 - accuracy: 0.1131 - val_loss: 2.8970 - val_accuracy: 0.1813\n",
            "Epoch 16/150\n",
            "13/13 [==============================] - 5s 380ms/step - loss: 2.9784 - accuracy: 0.1300 - val_loss: 2.8665 - val_accuracy: 0.1813\n",
            "Epoch 17/150\n",
            "13/13 [==============================] - 5s 416ms/step - loss: 3.0416 - accuracy: 0.1196 - val_loss: 2.9040 - val_accuracy: 0.2073\n",
            "Epoch 18/150\n",
            "13/13 [==============================] - 5s 396ms/step - loss: 2.9917 - accuracy: 0.1144 - val_loss: 2.8469 - val_accuracy: 0.1969\n",
            "Epoch 19/150\n",
            "13/13 [==============================] - 5s 372ms/step - loss: 2.9369 - accuracy: 0.1339 - val_loss: 2.8107 - val_accuracy: 0.2124\n",
            "Epoch 20/150\n",
            "13/13 [==============================] - 5s 408ms/step - loss: 2.8920 - accuracy: 0.1404 - val_loss: 2.7948 - val_accuracy: 0.2124\n",
            "Epoch 21/150\n",
            "13/13 [==============================] - 5s 394ms/step - loss: 2.8616 - accuracy: 0.1495 - val_loss: 2.7339 - val_accuracy: 0.2332\n",
            "Epoch 22/150\n",
            "13/13 [==============================] - 5s 393ms/step - loss: 2.8292 - accuracy: 0.1756 - val_loss: 2.6871 - val_accuracy: 0.2383\n",
            "Epoch 23/150\n",
            "13/13 [==============================] - 5s 395ms/step - loss: 2.8043 - accuracy: 0.1730 - val_loss: 2.6656 - val_accuracy: 0.2280\n",
            "Epoch 24/150\n",
            "13/13 [==============================] - 6s 445ms/step - loss: 2.7937 - accuracy: 0.1651 - val_loss: 2.6116 - val_accuracy: 0.2021\n",
            "Epoch 25/150\n",
            "13/13 [==============================] - 5s 389ms/step - loss: 2.7481 - accuracy: 0.1821 - val_loss: 2.5876 - val_accuracy: 0.2228\n",
            "Epoch 26/150\n",
            "13/13 [==============================] - 5s 416ms/step - loss: 2.7556 - accuracy: 0.1834 - val_loss: 2.6638 - val_accuracy: 0.2228\n",
            "Epoch 27/150\n",
            "13/13 [==============================] - 5s 395ms/step - loss: 2.7177 - accuracy: 0.1899 - val_loss: 2.5883 - val_accuracy: 0.2280\n",
            "Epoch 28/150\n",
            "13/13 [==============================] - 5s 393ms/step - loss: 2.6380 - accuracy: 0.2237 - val_loss: 2.5194 - val_accuracy: 0.2539\n",
            "Epoch 29/150\n",
            "13/13 [==============================] - 5s 375ms/step - loss: 2.6509 - accuracy: 0.2107 - val_loss: 2.4376 - val_accuracy: 0.2487\n",
            "Epoch 30/150\n",
            "13/13 [==============================] - 5s 415ms/step - loss: 2.5369 - accuracy: 0.2354 - val_loss: 2.4351 - val_accuracy: 0.2746\n",
            "Epoch 31/150\n",
            "13/13 [==============================] - 5s 376ms/step - loss: 2.5320 - accuracy: 0.2276 - val_loss: 2.3573 - val_accuracy: 0.2746\n",
            "Epoch 32/150\n",
            "13/13 [==============================] - 5s 397ms/step - loss: 2.4867 - accuracy: 0.2627 - val_loss: 2.3347 - val_accuracy: 0.2798\n",
            "Epoch 33/150\n",
            "13/13 [==============================] - 5s 400ms/step - loss: 2.4709 - accuracy: 0.2640 - val_loss: 2.2834 - val_accuracy: 0.2902\n",
            "Epoch 34/150\n",
            "13/13 [==============================] - 5s 375ms/step - loss: 2.4013 - accuracy: 0.2757 - val_loss: 2.3002 - val_accuracy: 0.3005\n",
            "Epoch 35/150\n",
            "13/13 [==============================] - 5s 398ms/step - loss: 2.4491 - accuracy: 0.2640 - val_loss: 2.2921 - val_accuracy: 0.2694\n",
            "Epoch 36/150\n",
            "13/13 [==============================] - 5s 398ms/step - loss: 2.4029 - accuracy: 0.2731 - val_loss: 2.2058 - val_accuracy: 0.2798\n",
            "Epoch 37/150\n",
            "13/13 [==============================] - 5s 373ms/step - loss: 2.3346 - accuracy: 0.2822 - val_loss: 2.1511 - val_accuracy: 0.3212\n",
            "Epoch 38/150\n",
            "13/13 [==============================] - 5s 391ms/step - loss: 2.2656 - accuracy: 0.2887 - val_loss: 2.0706 - val_accuracy: 0.3264\n",
            "Epoch 39/150\n",
            "13/13 [==============================] - 5s 395ms/step - loss: 2.2426 - accuracy: 0.3095 - val_loss: 2.0493 - val_accuracy: 0.3368\n",
            "Epoch 40/150\n",
            "13/13 [==============================] - 5s 399ms/step - loss: 2.2384 - accuracy: 0.3264 - val_loss: 2.1099 - val_accuracy: 0.3523\n",
            "Epoch 41/150\n",
            "13/13 [==============================] - 5s 372ms/step - loss: 2.4407 - accuracy: 0.2913 - val_loss: 2.1950 - val_accuracy: 0.3679\n",
            "Epoch 42/150\n",
            "13/13 [==============================] - 5s 397ms/step - loss: 2.2931 - accuracy: 0.3173 - val_loss: 2.0739 - val_accuracy: 0.3627\n",
            "Epoch 43/150\n",
            "13/13 [==============================] - 5s 374ms/step - loss: 2.2722 - accuracy: 0.3095 - val_loss: 2.0497 - val_accuracy: 0.3523\n",
            "Epoch 44/150\n",
            "13/13 [==============================] - 5s 396ms/step - loss: 2.2269 - accuracy: 0.3238 - val_loss: 2.0002 - val_accuracy: 0.4041\n",
            "Epoch 45/150\n",
            "13/13 [==============================] - 5s 398ms/step - loss: 2.1269 - accuracy: 0.3524 - val_loss: 1.9905 - val_accuracy: 0.3627\n",
            "Epoch 46/150\n",
            "13/13 [==============================] - 5s 372ms/step - loss: 2.2223 - accuracy: 0.3420 - val_loss: 2.0086 - val_accuracy: 0.4041\n",
            "Epoch 47/150\n",
            "13/13 [==============================] - 5s 399ms/step - loss: 2.0960 - accuracy: 0.3498 - val_loss: 1.9251 - val_accuracy: 0.3938\n",
            "Epoch 48/150\n",
            "13/13 [==============================] - 5s 396ms/step - loss: 2.1094 - accuracy: 0.3680 - val_loss: 1.8860 - val_accuracy: 0.4301\n",
            "Epoch 49/150\n",
            "13/13 [==============================] - 5s 373ms/step - loss: 2.0090 - accuracy: 0.3823 - val_loss: 1.7613 - val_accuracy: 0.4404\n",
            "Epoch 50/150\n",
            "13/13 [==============================] - 5s 418ms/step - loss: 2.0000 - accuracy: 0.3706 - val_loss: 1.7179 - val_accuracy: 0.4663\n",
            "Epoch 51/150\n",
            "13/13 [==============================] - 5s 373ms/step - loss: 2.0787 - accuracy: 0.3446 - val_loss: 1.8292 - val_accuracy: 0.4715\n",
            "Epoch 52/150\n",
            "13/13 [==============================] - 5s 376ms/step - loss: 2.0381 - accuracy: 0.3758 - val_loss: 1.7348 - val_accuracy: 0.5233\n",
            "Epoch 53/150\n",
            "13/13 [==============================] - 5s 397ms/step - loss: 2.0371 - accuracy: 0.3602 - val_loss: 1.6292 - val_accuracy: 0.5648\n",
            "Epoch 54/150\n",
            "13/13 [==============================] - 5s 374ms/step - loss: 1.9024 - accuracy: 0.4161 - val_loss: 1.5573 - val_accuracy: 0.5803\n",
            "Epoch 55/150\n",
            "13/13 [==============================] - 5s 399ms/step - loss: 1.8576 - accuracy: 0.4187 - val_loss: 1.6655 - val_accuracy: 0.4819\n",
            "Epoch 56/150\n",
            "13/13 [==============================] - 5s 374ms/step - loss: 2.0443 - accuracy: 0.3693 - val_loss: 1.7062 - val_accuracy: 0.4041\n",
            "Epoch 57/150\n",
            "13/13 [==============================] - 5s 375ms/step - loss: 1.9333 - accuracy: 0.4135 - val_loss: 1.6683 - val_accuracy: 0.5233\n",
            "Epoch 58/150\n",
            "13/13 [==============================] - 5s 373ms/step - loss: 1.8077 - accuracy: 0.4577 - val_loss: 1.5785 - val_accuracy: 0.5389\n",
            "Epoch 59/150\n",
            "13/13 [==============================] - 5s 397ms/step - loss: 1.8891 - accuracy: 0.4200 - val_loss: 1.6485 - val_accuracy: 0.5596\n",
            "Epoch 60/150\n",
            "13/13 [==============================] - 5s 398ms/step - loss: 1.7977 - accuracy: 0.4369 - val_loss: 1.5218 - val_accuracy: 0.5440\n",
            "Epoch 61/150\n",
            "13/13 [==============================] - 5s 373ms/step - loss: 1.7180 - accuracy: 0.4681 - val_loss: 1.4552 - val_accuracy: 0.6218\n",
            "Epoch 62/150\n",
            "13/13 [==============================] - 5s 399ms/step - loss: 1.6764 - accuracy: 0.4811 - val_loss: 1.3805 - val_accuracy: 0.6218\n",
            "Epoch 63/150\n",
            "13/13 [==============================] - 5s 373ms/step - loss: 1.6592 - accuracy: 0.4798 - val_loss: 1.3424 - val_accuracy: 0.5803\n",
            "Epoch 64/150\n",
            "13/13 [==============================] - 5s 397ms/step - loss: 1.6484 - accuracy: 0.5085 - val_loss: 1.3298 - val_accuracy: 0.6010\n",
            "Epoch 65/150\n",
            "13/13 [==============================] - 5s 372ms/step - loss: 1.6408 - accuracy: 0.5020 - val_loss: 1.3291 - val_accuracy: 0.6218\n",
            "Epoch 66/150\n",
            "13/13 [==============================] - 5s 396ms/step - loss: 1.6212 - accuracy: 0.5007 - val_loss: 1.2097 - val_accuracy: 0.6425\n",
            "Epoch 67/150\n",
            "13/13 [==============================] - 5s 377ms/step - loss: 1.6038 - accuracy: 0.5072 - val_loss: 1.3256 - val_accuracy: 0.6684\n",
            "Epoch 68/150\n",
            "13/13 [==============================] - 5s 373ms/step - loss: 1.4755 - accuracy: 0.5527 - val_loss: 1.2217 - val_accuracy: 0.6943\n",
            "Epoch 69/150\n",
            "13/13 [==============================] - 5s 408ms/step - loss: 1.5212 - accuracy: 0.5215 - val_loss: 1.2022 - val_accuracy: 0.7150\n",
            "Epoch 70/150\n",
            "13/13 [==============================] - 5s 397ms/step - loss: 1.4747 - accuracy: 0.5436 - val_loss: 1.1492 - val_accuracy: 0.7098\n",
            "Epoch 71/150\n",
            "13/13 [==============================] - 5s 392ms/step - loss: 1.4241 - accuracy: 0.5410 - val_loss: 1.0989 - val_accuracy: 0.6788\n",
            "Epoch 72/150\n",
            "13/13 [==============================] - 5s 375ms/step - loss: 1.3840 - accuracy: 0.5722 - val_loss: 1.1190 - val_accuracy: 0.7098\n",
            "Epoch 73/150\n",
            "13/13 [==============================] - 5s 396ms/step - loss: 1.5236 - accuracy: 0.5124 - val_loss: 1.1904 - val_accuracy: 0.6839\n",
            "Epoch 74/150\n",
            "13/13 [==============================] - 5s 375ms/step - loss: 1.4692 - accuracy: 0.5397 - val_loss: 1.1841 - val_accuracy: 0.6528\n",
            "Epoch 75/150\n",
            "13/13 [==============================] - 5s 373ms/step - loss: 1.6108 - accuracy: 0.5059 - val_loss: 1.3032 - val_accuracy: 0.6062\n",
            "Epoch 76/150\n",
            "13/13 [==============================] - 5s 396ms/step - loss: 1.4911 - accuracy: 0.5371 - val_loss: 1.1772 - val_accuracy: 0.7047\n",
            "Epoch 77/150\n",
            "13/13 [==============================] - 5s 398ms/step - loss: 1.4703 - accuracy: 0.5189 - val_loss: 1.1108 - val_accuracy: 0.6995\n",
            "Epoch 78/150\n",
            "13/13 [==============================] - 5s 397ms/step - loss: 1.3751 - accuracy: 0.5670 - val_loss: 1.1042 - val_accuracy: 0.7150\n",
            "Epoch 79/150\n",
            "13/13 [==============================] - 5s 398ms/step - loss: 1.3489 - accuracy: 0.5631 - val_loss: 1.0445 - val_accuracy: 0.7254\n",
            "Epoch 80/150\n",
            "13/13 [==============================] - 5s 395ms/step - loss: 1.2648 - accuracy: 0.6060 - val_loss: 0.9923 - val_accuracy: 0.7513\n",
            "Epoch 81/150\n",
            "13/13 [==============================] - 5s 398ms/step - loss: 1.2846 - accuracy: 0.5943 - val_loss: 0.9833 - val_accuracy: 0.7306\n",
            "Epoch 82/150\n",
            "13/13 [==============================] - 5s 396ms/step - loss: 1.2375 - accuracy: 0.6151 - val_loss: 0.9603 - val_accuracy: 0.7617\n",
            "Epoch 83/150\n",
            "13/13 [==============================] - 5s 396ms/step - loss: 1.1938 - accuracy: 0.6216 - val_loss: 0.9400 - val_accuracy: 0.7513\n",
            "Epoch 84/150\n",
            "13/13 [==============================] - 5s 375ms/step - loss: 1.2116 - accuracy: 0.6229 - val_loss: 0.9183 - val_accuracy: 0.7668\n",
            "Epoch 85/150\n",
            "13/13 [==============================] - 5s 373ms/step - loss: 1.0943 - accuracy: 0.6645 - val_loss: 0.9223 - val_accuracy: 0.7513\n",
            "Epoch 86/150\n",
            "13/13 [==============================] - 5s 399ms/step - loss: 1.2069 - accuracy: 0.6346 - val_loss: 0.8958 - val_accuracy: 0.7617\n",
            "Epoch 87/150\n",
            "13/13 [==============================] - 5s 397ms/step - loss: 1.1592 - accuracy: 0.6216 - val_loss: 0.8730 - val_accuracy: 0.7720\n",
            "Epoch 88/150\n",
            "13/13 [==============================] - 5s 397ms/step - loss: 1.1441 - accuracy: 0.6372 - val_loss: 0.8627 - val_accuracy: 0.7720\n",
            "Epoch 89/150\n",
            "13/13 [==============================] - 5s 389ms/step - loss: 1.0934 - accuracy: 0.6476 - val_loss: 0.8415 - val_accuracy: 0.7824\n",
            "Epoch 90/150\n",
            "13/13 [==============================] - 5s 397ms/step - loss: 1.1151 - accuracy: 0.6606 - val_loss: 0.8613 - val_accuracy: 0.7876\n",
            "Epoch 91/150\n",
            "13/13 [==============================] - 5s 375ms/step - loss: 1.0718 - accuracy: 0.6502 - val_loss: 0.8190 - val_accuracy: 0.7720\n",
            "Epoch 92/150\n",
            "13/13 [==============================] - 5s 397ms/step - loss: 1.0017 - accuracy: 0.6853 - val_loss: 0.7817 - val_accuracy: 0.7979\n",
            "Epoch 93/150\n",
            "13/13 [==============================] - 5s 398ms/step - loss: 1.0693 - accuracy: 0.6658 - val_loss: 0.8381 - val_accuracy: 0.7876\n",
            "Epoch 94/150\n",
            "13/13 [==============================] - 5s 397ms/step - loss: 1.1152 - accuracy: 0.6684 - val_loss: 0.8300 - val_accuracy: 0.7720\n",
            "Epoch 95/150\n",
            "13/13 [==============================] - 5s 396ms/step - loss: 1.0934 - accuracy: 0.6658 - val_loss: 0.7897 - val_accuracy: 0.7824\n",
            "Epoch 96/150\n",
            "13/13 [==============================] - 5s 399ms/step - loss: 1.1266 - accuracy: 0.6489 - val_loss: 0.8150 - val_accuracy: 0.7979\n",
            "Epoch 97/150\n",
            "13/13 [==============================] - 5s 392ms/step - loss: 1.1189 - accuracy: 0.6684 - val_loss: 0.7946 - val_accuracy: 0.8083\n",
            "Epoch 98/150\n",
            "13/13 [==============================] - 5s 399ms/step - loss: 1.2058 - accuracy: 0.6398 - val_loss: 0.8341 - val_accuracy: 0.7668\n",
            "Epoch 99/150\n",
            "13/13 [==============================] - 5s 374ms/step - loss: 1.0726 - accuracy: 0.6749 - val_loss: 0.7956 - val_accuracy: 0.8290\n",
            "Epoch 100/150\n",
            "13/13 [==============================] - 5s 398ms/step - loss: 1.2739 - accuracy: 0.5995 - val_loss: 0.9694 - val_accuracy: 0.7513\n",
            "Epoch 101/150\n",
            "13/13 [==============================] - 5s 396ms/step - loss: 1.2223 - accuracy: 0.6424 - val_loss: 0.9154 - val_accuracy: 0.7772\n",
            "Epoch 102/150\n",
            "13/13 [==============================] - 5s 373ms/step - loss: 1.0578 - accuracy: 0.6619 - val_loss: 0.7868 - val_accuracy: 0.7824\n",
            "Epoch 103/150\n",
            "13/13 [==============================] - 5s 376ms/step - loss: 1.0523 - accuracy: 0.6632 - val_loss: 0.7599 - val_accuracy: 0.8083\n",
            "Epoch 104/150\n",
            "13/13 [==============================] - 5s 397ms/step - loss: 1.0373 - accuracy: 0.6788 - val_loss: 0.7347 - val_accuracy: 0.8187\n",
            "Epoch 105/150\n",
            "13/13 [==============================] - 5s 399ms/step - loss: 1.0489 - accuracy: 0.6879 - val_loss: 0.6945 - val_accuracy: 0.8342\n",
            "Epoch 106/150\n",
            "13/13 [==============================] - 5s 374ms/step - loss: 0.9058 - accuracy: 0.7126 - val_loss: 0.6688 - val_accuracy: 0.8394\n",
            "Epoch 107/150\n",
            "13/13 [==============================] - 5s 396ms/step - loss: 0.8504 - accuracy: 0.7412 - val_loss: 0.6445 - val_accuracy: 0.8394\n",
            "Epoch 108/150\n",
            "13/13 [==============================] - 5s 375ms/step - loss: 0.8763 - accuracy: 0.7191 - val_loss: 0.6289 - val_accuracy: 0.8394\n",
            "Epoch 109/150\n",
            "13/13 [==============================] - 5s 394ms/step - loss: 0.8660 - accuracy: 0.7412 - val_loss: 0.6500 - val_accuracy: 0.8446\n",
            "Epoch 110/150\n",
            "13/13 [==============================] - 5s 400ms/step - loss: 1.0880 - accuracy: 0.6723 - val_loss: 0.6811 - val_accuracy: 0.8238\n",
            "Epoch 111/150\n",
            "13/13 [==============================] - 5s 373ms/step - loss: 1.0576 - accuracy: 0.6541 - val_loss: 0.6965 - val_accuracy: 0.8031\n",
            "Epoch 112/150\n",
            "13/13 [==============================] - 5s 374ms/step - loss: 0.9527 - accuracy: 0.7139 - val_loss: 0.6532 - val_accuracy: 0.8549\n",
            "Epoch 113/150\n",
            "13/13 [==============================] - 5s 398ms/step - loss: 0.8560 - accuracy: 0.7438 - val_loss: 0.6324 - val_accuracy: 0.8653\n",
            "Epoch 114/150\n",
            "13/13 [==============================] - 5s 395ms/step - loss: 0.9407 - accuracy: 0.7269 - val_loss: 0.6216 - val_accuracy: 0.8549\n",
            "Epoch 115/150\n",
            "13/13 [==============================] - 5s 398ms/step - loss: 0.8585 - accuracy: 0.7191 - val_loss: 0.6260 - val_accuracy: 0.8756\n",
            "Epoch 116/150\n",
            "13/13 [==============================] - 5s 373ms/step - loss: 0.7905 - accuracy: 0.7373 - val_loss: 0.5946 - val_accuracy: 0.8705\n",
            "Epoch 117/150\n",
            "13/13 [==============================] - 5s 397ms/step - loss: 0.7578 - accuracy: 0.7750 - val_loss: 0.5437 - val_accuracy: 0.8756\n",
            "Epoch 118/150\n",
            "13/13 [==============================] - 5s 397ms/step - loss: 0.7289 - accuracy: 0.7815 - val_loss: 0.5390 - val_accuracy: 0.8756\n",
            "Epoch 119/150\n",
            "13/13 [==============================] - 5s 372ms/step - loss: 0.7528 - accuracy: 0.7490 - val_loss: 0.5507 - val_accuracy: 0.8756\n",
            "Epoch 120/150\n",
            "13/13 [==============================] - 5s 375ms/step - loss: 0.7113 - accuracy: 0.7880 - val_loss: 0.5310 - val_accuracy: 0.9067\n",
            "Epoch 121/150\n",
            "13/13 [==============================] - 5s 395ms/step - loss: 0.8804 - accuracy: 0.7412 - val_loss: 0.6721 - val_accuracy: 0.7772\n",
            "Epoch 122/150\n",
            "13/13 [==============================] - 5s 398ms/step - loss: 1.1291 - accuracy: 0.6697 - val_loss: 0.5802 - val_accuracy: 0.9016\n",
            "Epoch 123/150\n",
            "13/13 [==============================] - 5s 396ms/step - loss: 0.9386 - accuracy: 0.7113 - val_loss: 0.6278 - val_accuracy: 0.8446\n",
            "Epoch 124/150\n",
            "13/13 [==============================] - 5s 396ms/step - loss: 0.8305 - accuracy: 0.7334 - val_loss: 0.5512 - val_accuracy: 0.8860\n",
            "Epoch 125/150\n",
            "13/13 [==============================] - 5s 399ms/step - loss: 0.8916 - accuracy: 0.7178 - val_loss: 0.5381 - val_accuracy: 0.8705\n",
            "Epoch 126/150\n",
            "13/13 [==============================] - 5s 373ms/step - loss: 0.8633 - accuracy: 0.7217 - val_loss: 0.5613 - val_accuracy: 0.8549\n",
            "Epoch 127/150\n",
            "13/13 [==============================] - 5s 399ms/step - loss: 0.8308 - accuracy: 0.7425 - val_loss: 0.5388 - val_accuracy: 0.8394\n",
            "Epoch 128/150\n",
            "13/13 [==============================] - 5s 413ms/step - loss: 0.7308 - accuracy: 0.7711 - val_loss: 0.5102 - val_accuracy: 0.8705\n",
            "Epoch 129/150\n",
            "13/13 [==============================] - 5s 397ms/step - loss: 0.7007 - accuracy: 0.7919 - val_loss: 0.5186 - val_accuracy: 0.8601\n",
            "Epoch 130/150\n",
            "13/13 [==============================] - 5s 375ms/step - loss: 0.6727 - accuracy: 0.7841 - val_loss: 0.4935 - val_accuracy: 0.8705\n",
            "Epoch 131/150\n",
            "13/13 [==============================] - 5s 396ms/step - loss: 0.7030 - accuracy: 0.7685 - val_loss: 0.4586 - val_accuracy: 0.9067\n",
            "Epoch 132/150\n",
            "13/13 [==============================] - 5s 375ms/step - loss: 0.5709 - accuracy: 0.8218 - val_loss: 0.4409 - val_accuracy: 0.9016\n",
            "Epoch 133/150\n",
            "13/13 [==============================] - 5s 409ms/step - loss: 0.6404 - accuracy: 0.8062 - val_loss: 0.4291 - val_accuracy: 0.9067\n",
            "Epoch 134/150\n",
            "13/13 [==============================] - 5s 394ms/step - loss: 0.6344 - accuracy: 0.8075 - val_loss: 0.4390 - val_accuracy: 0.8964\n",
            "Epoch 135/150\n",
            "13/13 [==============================] - 5s 398ms/step - loss: 0.6959 - accuracy: 0.7997 - val_loss: 0.4587 - val_accuracy: 0.8964\n",
            "Epoch 136/150\n",
            "13/13 [==============================] - 5s 374ms/step - loss: 0.6497 - accuracy: 0.7945 - val_loss: 0.4581 - val_accuracy: 0.8860\n",
            "Epoch 137/150\n",
            "13/13 [==============================] - 5s 377ms/step - loss: 0.6952 - accuracy: 0.7828 - val_loss: 0.3861 - val_accuracy: 0.9119\n",
            "Epoch 138/150\n",
            "13/13 [==============================] - 5s 374ms/step - loss: 0.6139 - accuracy: 0.8101 - val_loss: 0.4102 - val_accuracy: 0.8964\n",
            "Epoch 139/150\n",
            "13/13 [==============================] - 5s 378ms/step - loss: 0.5550 - accuracy: 0.8218 - val_loss: 0.4022 - val_accuracy: 0.9016\n",
            "Epoch 140/150\n",
            "13/13 [==============================] - 5s 374ms/step - loss: 0.5915 - accuracy: 0.8218 - val_loss: 0.4093 - val_accuracy: 0.9016\n",
            "Epoch 141/150\n",
            "13/13 [==============================] - 5s 397ms/step - loss: 0.5762 - accuracy: 0.8179 - val_loss: 0.4170 - val_accuracy: 0.9171\n",
            "Epoch 142/150\n",
            "13/13 [==============================] - 5s 398ms/step - loss: 0.7035 - accuracy: 0.7880 - val_loss: 0.4216 - val_accuracy: 0.8964\n",
            "Epoch 143/150\n",
            "13/13 [==============================] - 5s 396ms/step - loss: 0.6710 - accuracy: 0.7997 - val_loss: 0.4062 - val_accuracy: 0.9067\n",
            "Epoch 144/150\n",
            "13/13 [==============================] - 5s 397ms/step - loss: 0.6382 - accuracy: 0.8140 - val_loss: 0.3793 - val_accuracy: 0.9067\n",
            "Epoch 145/150\n",
            "13/13 [==============================] - 5s 396ms/step - loss: 0.5617 - accuracy: 0.8270 - val_loss: 0.3662 - val_accuracy: 0.9067\n",
            "Epoch 146/150\n",
            "13/13 [==============================] - 5s 397ms/step - loss: 0.5635 - accuracy: 0.8192 - val_loss: 0.3564 - val_accuracy: 0.9067\n",
            "Epoch 147/150\n",
            "13/13 [==============================] - 5s 396ms/step - loss: 0.5319 - accuracy: 0.8401 - val_loss: 0.3487 - val_accuracy: 0.9171\n",
            "Epoch 148/150\n",
            "13/13 [==============================] - 5s 395ms/step - loss: 0.5468 - accuracy: 0.8375 - val_loss: 0.3416 - val_accuracy: 0.9171\n",
            "Epoch 149/150\n",
            "13/13 [==============================] - 5s 400ms/step - loss: 0.5093 - accuracy: 0.8466 - val_loss: 0.3363 - val_accuracy: 0.9171\n",
            "Epoch 150/150\n",
            "13/13 [==============================] - 5s 396ms/step - loss: 0.4741 - accuracy: 0.8570 - val_loss: 0.3341 - val_accuracy: 0.9275\n"
          ]
        }
      ],
      "source": [
        "history = model.fit(X_train, y_train, batch_size = 64, epochs=150, validation_data = (X_test,y_test),callbacks = callback,verbose=1)"
      ]
    },
    {
      "cell_type": "code",
      "source": [
        "model.evaluate(X_test,y_test)"
      ],
      "metadata": {
        "id": "EzHO0Hja7VdU",
        "colab": {
          "base_uri": "https://localhost:8080/"
        },
        "outputId": "b7265aeb-5fa6-4758-ac24-4b7f10369a96"
      },
      "execution_count": 18,
      "outputs": [
        {
          "output_type": "stream",
          "name": "stdout",
          "text": [
            "7/7 [==============================] - 1s 50ms/step - loss: 0.3341 - accuracy: 0.9275\n"
          ]
        },
        {
          "output_type": "execute_result",
          "data": {
            "text/plain": [
              "[0.334143728017807, 0.9274611473083496]"
            ]
          },
          "metadata": {},
          "execution_count": 18
        }
      ]
    },
    {
      "cell_type": "code",
      "execution_count": 19,
      "metadata": {
        "colab": {
          "base_uri": "https://localhost:8080/",
          "height": 469
        },
        "id": "Fakcr0WbyXSL",
        "outputId": "b7e7a141-e22b-4cec-d658-ff9442897214"
      },
      "outputs": [
        {
          "output_type": "execute_result",
          "data": {
            "text/plain": [
              "Text(0.5, 1.0, 'Validation Loss')"
            ]
          },
          "metadata": {},
          "execution_count": 19
        },
        {
          "output_type": "display_data",
          "data": {
            "text/plain": [
              "<Figure size 640x480 with 1 Axes>"
            ],
            "image/png": "[encoded data removed]"
          },
          "metadata": {}
        }
      ],
      "source": [
        "plt.plot(history.history['val_loss'])\n",
        "plt.title('Validation Loss')"
      ]
    },
    {
      "cell_type": "code",
      "execution_count": 20,
      "metadata": {
        "colab": {
          "base_uri": "https://localhost:8080/",
          "height": 469
        },
        "id": "wOduUh1Rm5qP",
        "outputId": "8784c2e9-e768-4a56-c48f-b3a8ac0ca52d"
      },
      "outputs": [
        {
          "output_type": "execute_result",
          "data": {
            "text/plain": [
              "Text(0.5, 1.0, 'Validation accuracy')"
            ]
          },
          "metadata": {},
          "execution_count": 20
        },
        {
          "output_type": "display_data",
          "data": {
            "text/plain": [
              "<Figure size 640x480 with 1 Axes>"
            ],
            "image/png": "[encoded data removed]"
          },
          "metadata": {}
        }
      ],
      "source": [
        "plt.plot(history.history['val_accuracy'])\n",
        "plt.title('Validation accuracy')"
      ]
    },
    {
      "cell_type": "code",
      "source": [],
      "metadata": {
        "id": "33v7nOKf7ycy"
      },
      "execution_count": null,
      "outputs": []
    }
  ],
  "metadata": {
    "accelerator": "GPU",
    "colab": {
      "provenance": []
    },
    "gpuClass": "standard",
    "kernelspec": {
      "display_name": "Python 3",
      "name": "python3"
    },
    "language_info": {
      "name": "python"
    }
  },
  "nbformat": 4,
  "nbformat_minor": 0
}